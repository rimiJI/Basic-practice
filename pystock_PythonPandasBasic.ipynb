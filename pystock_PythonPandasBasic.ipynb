{
 "cells": [
  {
   "cell_type": "code",
   "execution_count": 7,
   "id": "568b5b65-c6e6-4e44-9df2-bc72b9460ff5",
   "metadata": {
    "scrolled": true
   },
   "outputs": [
    {
     "data": {
      "text/plain": [
       "월    10\n",
       "화    20\n",
       "수    30\n",
       "목    40\n",
       "dtype: int64"
      ]
     },
     "execution_count": 7,
     "metadata": {},
     "output_type": "execute_result"
    }
   ],
   "source": [
    "import pandas as pd\n",
    "\n",
    "data=[10,20,30,40]\n",
    "index=['월','화','수','목']\n",
    "s=pd.Series(data,index)\n",
    "s"
   ]
  },
  {
   "cell_type": "code",
   "execution_count": 10,
   "id": "ac050c51-afe1-4add-b36b-19442b98d665",
   "metadata": {},
   "outputs": [
    {
     "name": "stdout",
     "output_type": "stream",
     "text": [
      "10\n",
      "30\n",
      "40\n"
     ]
    }
   ],
   "source": [
    "print(s.iloc[0])\n",
    "print(s.iloc[2])\n",
    "print(s.iloc[-1])"
   ]
  },
  {
   "cell_type": "code",
   "execution_count": 12,
   "id": "f2aca1a8-acb2-4af8-aea0-7f0c8942c3d8",
   "metadata": {},
   "outputs": [
    {
     "name": "stdout",
     "output_type": "stream",
     "text": [
      "10\n",
      "20\n",
      "30\n"
     ]
    }
   ],
   "source": [
    "print(s.loc['월'])\n",
    "print(s.loc['화'])\n",
    "print(s.loc['수'])"
   ]
  },
  {
   "cell_type": "code",
   "execution_count": 16,
   "id": "616bb82e-9481-4484-a0bf-16e7a6922519",
   "metadata": {},
   "outputs": [
    {
     "data": {
      "text/plain": [
       "10"
      ]
     },
     "execution_count": 16,
     "metadata": {},
     "output_type": "execute_result"
    }
   ],
   "source": [
    "s['월']"
   ]
  },
  {
   "cell_type": "code",
   "execution_count": 17,
   "id": "0fd74301-b00f-4675-9c67-847d36bde48e",
   "metadata": {},
   "outputs": [
    {
     "name": "stderr",
     "output_type": "stream",
     "text": [
      "C:\\Users\\hlji6\\AppData\\Local\\Temp\\ipykernel_25936\\243613605.py:1: FutureWarning: Series.__getitem__ treating keys as positions is deprecated. In a future version, integer keys will always be treated as labels (consistent with DataFrame behavior). To access a value by position, use `ser.iloc[pos]`\n",
      "  s[0]\n"
     ]
    },
    {
     "data": {
      "text/plain": [
       "10"
      ]
     },
     "execution_count": 17,
     "metadata": {},
     "output_type": "execute_result"
    }
   ],
   "source": [
    "s[0]"
   ]
  },
  {
   "cell_type": "code",
   "execution_count": 21,
   "id": "27f5c200-ce83-47f7-9349-b5587fd28f49",
   "metadata": {},
   "outputs": [
    {
     "data": {
      "text/plain": [
       "월    10\n",
       "화    20\n",
       "dtype: int64"
      ]
     },
     "execution_count": 21,
     "metadata": {},
     "output_type": "execute_result"
    }
   ],
   "source": [
    "s.iloc[0:2]"
   ]
  },
  {
   "cell_type": "code",
   "execution_count": 20,
   "id": "5464f479-fca9-424a-8e7b-54851abc73b4",
   "metadata": {},
   "outputs": [
    {
     "data": {
      "text/plain": [
       "월    10\n",
       "화    20\n",
       "수    30\n",
       "dtype: int64"
      ]
     },
     "execution_count": 20,
     "metadata": {},
     "output_type": "execute_result"
    }
   ],
   "source": [
    "s.loc['월':'수']"
   ]
  },
  {
   "cell_type": "code",
   "execution_count": 23,
   "id": "87eba1f8-ebf0-4c82-84b4-7f0111b1a7d4",
   "metadata": {},
   "outputs": [
    {
     "name": "stdout",
     "output_type": "stream",
     "text": [
      "월    10\n",
      "수    30\n",
      "dtype: int64\n"
     ]
    }
   ],
   "source": [
    "target=[0,2]\n",
    "print(s.iloc[target])"
   ]
  },
  {
   "cell_type": "code",
   "execution_count": 24,
   "id": "b9eccb0d-9cd2-4b3a-a1d8-f8e67ecd4f3f",
   "metadata": {},
   "outputs": [
    {
     "name": "stdout",
     "output_type": "stream",
     "text": [
      "월    10\n",
      "수    30\n",
      "dtype: int64\n"
     ]
    }
   ],
   "source": [
    "target=['월','수']\n",
    "print(s.loc[target])"
   ]
  },
  {
   "cell_type": "code",
   "execution_count": null,
   "id": "8378fad9-77fe-4aee-ab06-2e8dfa1c86d4",
   "metadata": {},
   "outputs": [],
   "source": []
  },
  {
   "cell_type": "code",
   "execution_count": null,
   "id": "c2edf4df-2ee6-44ef-8308-ab30d9f54198",
   "metadata": {},
   "outputs": [],
   "source": []
  },
  {
   "cell_type": "code",
   "execution_count": null,
   "id": "7e0fafd1-001a-454b-9944-f375818c422d",
   "metadata": {},
   "outputs": [],
   "source": []
  },
  {
   "cell_type": "code",
   "execution_count": null,
   "id": "2ea8b4dd-3e0b-42ea-840c-daa3e1991254",
   "metadata": {},
   "outputs": [],
   "source": []
  },
  {
   "cell_type": "code",
   "execution_count": null,
   "id": "9189c7f0-9e64-4c0c-8735-e72fce787046",
   "metadata": {},
   "outputs": [],
   "source": []
  },
  {
   "cell_type": "code",
   "execution_count": null,
   "id": "9fabede2-adc5-4f0c-9e5d-3c564096e086",
   "metadata": {},
   "outputs": [],
   "source": []
  },
  {
   "cell_type": "code",
   "execution_count": null,
   "id": "1cca010a-700f-444b-9e9b-d8d7f63ed76d",
   "metadata": {},
   "outputs": [],
   "source": []
  },
  {
   "cell_type": "code",
   "execution_count": null,
   "id": "5a29aacf-fddf-41ad-afca-007b6e9ac6b7",
   "metadata": {},
   "outputs": [],
   "source": []
  },
  {
   "cell_type": "code",
   "execution_count": null,
   "id": "407035cc-de88-406f-a5ee-a7e9436541e8",
   "metadata": {},
   "outputs": [],
   "source": []
  },
  {
   "cell_type": "code",
   "execution_count": null,
   "id": "b87130d1-fd42-4ccd-9753-b9eea6f766c9",
   "metadata": {},
   "outputs": [],
   "source": []
  },
  {
   "cell_type": "code",
   "execution_count": null,
   "id": "202db57a-bc70-4399-9c66-19c950a69405",
   "metadata": {},
   "outputs": [],
   "source": []
  },
  {
   "cell_type": "code",
   "execution_count": null,
   "id": "e92af7c5-e2b6-41aa-9519-4fdf456e03a7",
   "metadata": {},
   "outputs": [],
   "source": []
  }
 ],
 "metadata": {
  "kernelspec": {
   "display_name": "Python 3 (ipykernel)",
   "language": "python",
   "name": "python3"
  },
  "language_info": {
   "codemirror_mode": {
    "name": "ipython",
    "version": 3
   },
   "file_extension": ".py",
   "mimetype": "text/x-python",
   "name": "python",
   "nbconvert_exporter": "python",
   "pygments_lexer": "ipython3",
   "version": "3.12.2"
  }
 },
 "nbformat": 4,
 "nbformat_minor": 5
}
