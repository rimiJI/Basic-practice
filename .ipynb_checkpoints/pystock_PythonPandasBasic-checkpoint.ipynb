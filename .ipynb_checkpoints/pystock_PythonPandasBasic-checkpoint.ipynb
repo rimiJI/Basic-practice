{
 "cells": [
  {
   "cell_type": "code",
   "execution_count": 7,
   "id": "568b5b65-c6e6-4e44-9df2-bc72b9460ff5",
   "metadata": {
    "scrolled": true
   },
   "outputs": [
    {
     "data": {
      "text/plain": [
       "월    10\n",
       "화    20\n",
       "수    30\n",
       "목    40\n",
       "dtype: int64"
      ]
     },
     "execution_count": 7,
     "metadata": {},
     "output_type": "execute_result"
    }
   ],
   "source": [
    "import pandas as pd\n",
    "\n",
    "data=[10,20,30,40]\n",
    "index=['월','화','수','목']\n",
    "s=pd.Series(data,index)\n",
    "s"
   ]
  },
  {
   "cell_type": "code",
   "execution_count": 10,
   "id": "ac050c51-afe1-4add-b36b-19442b98d665",
   "metadata": {},
   "outputs": [
    {
     "name": "stdout",
     "output_type": "stream",
     "text": [
      "10\n",
      "30\n",
      "40\n"
     ]
    }
   ],
   "source": [
    "print(s.iloc[0])\n",
    "print(s.iloc[2])\n",
    "print(s.iloc[-1])"
   ]
  },
  {
   "cell_type": "code",
   "execution_count": 12,
   "id": "f2aca1a8-acb2-4af8-aea0-7f0c8942c3d8",
   "metadata": {},
   "outputs": [
    {
     "name": "stdout",
     "output_type": "stream",
     "text": [
      "10\n",
      "20\n",
      "30\n"
     ]
    }
   ],
   "source": [
    "print(s.loc['월'])\n",
    "print(s.loc['화'])\n",
    "print(s.loc['수'])"
   ]
  },
  {
   "cell_type": "code",
   "execution_count": 16,
   "id": "616bb82e-9481-4484-a0bf-16e7a6922519",
   "metadata": {},
   "outputs": [
    {
     "data": {
      "text/plain": [
       "10"
      ]
     },
     "execution_count": 16,
     "metadata": {},
     "output_type": "execute_result"
    }
   ],
   "source": [
    "s['월']"
   ]
  },
  {
   "cell_type": "code",
   "execution_count": 17,
   "id": "0fd74301-b00f-4675-9c67-847d36bde48e",
   "metadata": {},
   "outputs": [
    {
     "name": "stderr",
     "output_type": "stream",
     "text": [
      "C:\\Users\\hlji6\\AppData\\Local\\Temp\\ipykernel_25936\\243613605.py:1: FutureWarning: Series.__getitem__ treating keys as positions is deprecated. In a future version, integer keys will always be treated as labels (consistent with DataFrame behavior). To access a value by position, use `ser.iloc[pos]`\n",
      "  s[0]\n"
     ]
    },
    {
     "data": {
      "text/plain": [
       "10"
      ]
     },
     "execution_count": 17,
     "metadata": {},
     "output_type": "execute_result"
    }
   ],
   "source": [
    "s[0]"
   ]
  },
  {
   "cell_type": "code",
   "execution_count": 21,
   "id": "27f5c200-ce83-47f7-9349-b5587fd28f49",
   "metadata": {},
   "outputs": [
    {
     "data": {
      "text/plain": [
       "월    10\n",
       "화    20\n",
       "dtype: int64"
      ]
     },
     "execution_count": 21,
     "metadata": {},
     "output_type": "execute_result"
    }
   ],
   "source": [
    "s.iloc[0:2]"
   ]
  },
  {
   "cell_type": "code",
   "execution_count": 20,
   "id": "5464f479-fca9-424a-8e7b-54851abc73b4",
   "metadata": {},
   "outputs": [
    {
     "data": {
      "text/plain": [
       "월    10\n",
       "화    20\n",
       "수    30\n",
       "dtype: int64"
      ]
     },
     "execution_count": 20,
     "metadata": {},
     "output_type": "execute_result"
    }
   ],
   "source": [
    "s.loc['월':'수']"
   ]
  },
  {
   "cell_type": "code",
   "execution_count": 23,
   "id": "87eba1f8-ebf0-4c82-84b4-7f0111b1a7d4",
   "metadata": {},
   "outputs": [
    {
     "name": "stdout",
     "output_type": "stream",
     "text": [
      "월    10\n",
      "수    30\n",
      "dtype: int64\n"
     ]
    }
   ],
   "source": [
    "target=[0,2]\n",
    "print(s.iloc[target])"
   ]
  },
  {
   "cell_type": "code",
   "execution_count": 24,
   "id": "b9eccb0d-9cd2-4b3a-a1d8-f8e67ecd4f3f",
   "metadata": {},
   "outputs": [
    {
     "name": "stdout",
     "output_type": "stream",
     "text": [
      "월    10\n",
      "수    30\n",
      "dtype: int64\n"
     ]
    }
   ],
   "source": [
    "target=['월','수']\n",
    "print(s.loc[target])"
   ]
  },
  {
   "cell_type": "markdown",
   "id": "e80bc304-43fa-43c2-b041-1e0b3dfaef19",
   "metadata": {},
   "source": [
    "### series 값추가\n",
    "```\n",
    "data=[10,20,30,40]\n",
    "index=['월','화','수','목']\n",
    "s=pd.Series(data,index)\n",
    "s\n",
    "```\n",
    "240614\n"
   ]
  },
  {
   "cell_type": "code",
   "execution_count": 5,
   "id": "c2edf4df-2ee6-44ef-8308-ab30d9f54198",
   "metadata": {},
   "outputs": [
    {
     "data": {
      "text/plain": [
       "월    10\n",
       "화    20\n",
       "수    30\n",
       "dtype: int64"
      ]
     },
     "execution_count": 5,
     "metadata": {},
     "output_type": "execute_result"
    }
   ],
   "source": [
    "data=[10,20,30]\n",
    "index=['월','화','수']\n",
    "a=pd.Series(data,index)\n",
    "a"
   ]
  },
  {
   "cell_type": "code",
   "execution_count": 6,
   "id": "7e0fafd1-001a-454b-9944-f375818c422d",
   "metadata": {},
   "outputs": [
    {
     "data": {
      "text/plain": [
       "월    10\n",
       "화    20\n",
       "수    30\n",
       "목    40\n",
       "dtype: int64"
      ]
     },
     "execution_count": 6,
     "metadata": {},
     "output_type": "execute_result"
    }
   ],
   "source": [
    "a.loc[' 목']=40\n",
    "a"
   ]
  },
  {
   "cell_type": "markdown",
   "id": "c5c9c862-0058-4c2b-8514-6e582f95057a",
   "metadata": {},
   "source": [
    "### Series 삭제"
   ]
  },
  {
   "cell_type": "code",
   "execution_count": 7,
   "id": "2ea8b4dd-3e0b-42ea-840c-daa3e1991254",
   "metadata": {},
   "outputs": [
    {
     "data": {
      "text/plain": [
       "월    10\n",
       "수    30\n",
       "목    40\n",
       "dtype: int64"
      ]
     },
     "execution_count": 7,
     "metadata": {},
     "output_type": "execute_result"
    }
   ],
   "source": [
    "#단, 삭제표시만되고 실제 안바뀜. -> loc와 iloc와의 차이점.\n",
    "#만약 직접 적용하고 싶으면 a.drop(\"화\",inplace=True) 라고 inplace를 추가.\n",
    "a.drop(\"화\")"
   ]
  },
  {
   "cell_type": "code",
   "execution_count": 21,
   "id": "9189c7f0-9e64-4c0c-8735-e72fce787046",
   "metadata": {},
   "outputs": [
    {
     "data": {
      "text/plain": [
       "수    3000\n",
       "목      40\n",
       "dtype: int64"
      ]
     },
     "execution_count": 21,
     "metadata": {},
     "output_type": "execute_result"
    }
   ],
   "source": [
    "#한꺼번 삭제도 가능, \n",
    "a.drop(['월',\"화\"])"
   ]
  },
  {
   "cell_type": "code",
   "execution_count": 13,
   "id": "9fabede2-adc5-4f0c-9e5d-3c564096e086",
   "metadata": {},
   "outputs": [
    {
     "data": {
      "text/plain": [
       "월    10\n",
       "화    20\n",
       "수    30\n",
       "목    40\n",
       "dtype: int64"
      ]
     },
     "execution_count": 13,
     "metadata": {},
     "output_type": "execute_result"
    }
   ],
   "source": [
    "a #원본은 안바뀐 상태"
   ]
  },
  {
   "cell_type": "markdown",
   "id": "d74dbed4-8063-4b82-b4df-dd71dac413f4",
   "metadata": {},
   "source": [
    "### Series 수정"
   ]
  },
  {
   "cell_type": "code",
   "execution_count": 18,
   "id": "5a29aacf-fddf-41ad-afca-007b6e9ac6b7",
   "metadata": {},
   "outputs": [
    {
     "data": {
      "text/plain": [
       "월    1000\n",
       "화      20\n",
       "수    3000\n",
       "목      40\n",
       "dtype: int64"
      ]
     },
     "execution_count": 18,
     "metadata": {},
     "output_type": "execute_result"
    }
   ],
   "source": [
    "a.iloc[0]=1000\n",
    "a.loc['수']=3000\n",
    "a"
   ]
  },
  {
   "cell_type": "code",
   "execution_count": 19,
   "id": "407035cc-de88-406f-a5ee-a7e9436541e8",
   "metadata": {},
   "outputs": [
    {
     "data": {
      "text/plain": [
       "월    1000\n",
       "화      20\n",
       "수    3000\n",
       "목      40\n",
       "dtype: int64"
      ]
     },
     "execution_count": 19,
     "metadata": {},
     "output_type": "execute_result"
    }
   ],
   "source": [
    "a"
   ]
  },
  {
   "cell_type": "markdown",
   "id": "1a793cfb-d099-4f37-9a35-4d6929811f2a",
   "metadata": {},
   "source": [
    "### Broadcasting"
   ]
  },
  {
   "cell_type": "code",
   "execution_count": 25,
   "id": "202db57a-bc70-4399-9c66-19c950a69405",
   "metadata": {},
   "outputs": [
    {
     "data": {
      "text/plain": [
       "0    110\n",
       "1    120\n",
       "2    130\n",
       "dtype: int64"
      ]
     },
     "execution_count": 25,
     "metadata": {},
     "output_type": "execute_result"
    }
   ],
   "source": [
    "a=pd.Series([10,20,30]) #판다스 시리즈 생성\n",
    "a+100"
   ]
  },
  {
   "cell_type": "code",
   "execution_count": 26,
   "id": "e92af7c5-e2b6-41aa-9519-4fdf456e03a7",
   "metadata": {},
   "outputs": [
    {
     "data": {
      "text/plain": [
       "0    15\n",
       "1    25\n",
       "2    35\n",
       "dtype: int64"
      ]
     },
     "execution_count": 26,
     "metadata": {},
     "output_type": "execute_result"
    }
   ],
   "source": [
    "b=pd.Series([5,5,5])\n",
    "a+b"
   ]
  },
  {
   "cell_type": "markdown",
   "id": "36701f78-6549-42f1-8b54-00d9840ba4ce",
   "metadata": {},
   "source": [
    "### Broadcating- index기준\n",
    "인덱스를 입력하면 입력인덱스 기준으로 합쳐짐 (순서인덱스와 상관없이.)"
   ]
  },
  {
   "cell_type": "code",
   "execution_count": 28,
   "id": "2ee117ec-c6b4-4e5e-9968-3c7a0de4823b",
   "metadata": {},
   "outputs": [],
   "source": [
    "a=pd.Series(data=[10,10,10],index=['빨','주','노'])\n",
    "b=pd.Series(data=[10,10,10],index=['빨','주','초'])"
   ]
  },
  {
   "cell_type": "code",
   "execution_count": 29,
   "id": "a6f9ae34-63f6-4d0b-9b24-7474aa9887a5",
   "metadata": {},
   "outputs": [
    {
     "data": {
      "text/plain": [
       "노     NaN\n",
       "빨    20.0\n",
       "주    40.0\n",
       "초     NaN\n",
       "dtype: float64"
      ]
     },
     "execution_count": 29,
     "metadata": {},
     "output_type": "execute_result"
    }
   ],
   "source": [
    "a+b "
   ]
  },
  {
   "cell_type": "code",
   "execution_count": null,
   "id": "3ed37991-f5eb-40a1-898e-53c72c4da833",
   "metadata": {},
   "outputs": [],
   "source": []
  },
  {
   "cell_type": "code",
   "execution_count": null,
   "id": "3950c795-f4da-4474-951f-085fae370737",
   "metadata": {},
   "outputs": [],
   "source": []
  },
  {
   "cell_type": "code",
   "execution_count": null,
   "id": "7cc63d56-2596-4d22-859d-462f8f3f5efb",
   "metadata": {},
   "outputs": [],
   "source": []
  },
  {
   "cell_type": "code",
   "execution_count": null,
   "id": "0c6e9511-9527-4e2d-b245-64fefc78509a",
   "metadata": {},
   "outputs": [],
   "source": []
  },
  {
   "cell_type": "code",
   "execution_count": null,
   "id": "b1099209-b61c-484f-90ac-ebafe65254e4",
   "metadata": {},
   "outputs": [],
   "source": []
  }
 ],
 "metadata": {
  "kernelspec": {
   "display_name": "Python 3 (ipykernel)",
   "language": "python",
   "name": "python3"
  },
  "language_info": {
   "codemirror_mode": {
    "name": "ipython",
    "version": 3
   },
   "file_extension": ".py",
   "mimetype": "text/x-python",
   "name": "python",
   "nbconvert_exporter": "python",
   "pygments_lexer": "ipython3",
   "version": "3.12.2"
  }
 },
 "nbformat": 4,
 "nbformat_minor": 5
}
