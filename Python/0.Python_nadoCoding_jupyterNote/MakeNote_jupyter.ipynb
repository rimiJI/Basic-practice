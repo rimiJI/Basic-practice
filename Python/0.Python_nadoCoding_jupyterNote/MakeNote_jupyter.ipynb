{
 "cells": [
  {
   "cell_type": "code",
   "execution_count": 9,
   "id": "485574fd-58a7-4f58-bc7f-507c24a09f76",
   "metadata": {},
   "outputs": [
    {
     "data": {
      "text/plain": [
       "False"
      ]
     },
     "execution_count": 9,
     "metadata": {},
     "output_type": "execute_result"
    }
   ],
   "source": [
    "os.path.exists(\"TestLog\")"
   ]
  },
  {
   "cell_type": "code",
   "execution_count": 3,
   "id": "b7933428-b7e7-4dd9-b77b-83dd7f7d299b",
   "metadata": {},
   "outputs": [],
   "source": [
    "import pathlib"
   ]
  },
  {
   "cell_type": "code",
   "execution_count": 5,
   "id": "a853780b-1730-4808-981a-9568d999e53e",
   "metadata": {},
   "outputs": [
    {
     "data": {
      "text/plain": [
       "WindowsPath('D:/Me/PythonWorkspace')"
      ]
     },
     "execution_count": 5,
     "metadata": {},
     "output_type": "execute_result"
    }
   ],
   "source": [
    "pathlib.Path.cwd() #cwd= current working directory"
   ]
  },
  {
   "cell_type": "code",
   "execution_count": 31,
   "id": "4236245a-f2b5-4323-9066-c1a698d92bde",
   "metadata": {},
   "outputs": [
    {
     "data": {
      "text/plain": [
       "WindowsPath('D:/Me/PythonWorkspace')"
      ]
     },
     "execution_count": 31,
     "metadata": {},
     "output_type": "execute_result"
    }
   ],
   "source": [
    "cwd = pathlib.Path.cwd()\n",
    "cwd"
   ]
  },
  {
   "cell_type": "code",
   "execution_count": 32,
   "id": "9deeeeb0-d710-439e-aad9-0dbad8b1f7c8",
   "metadata": {},
   "outputs": [
    {
     "data": {
      "text/plain": [
       "WindowsPath('D:/Me')"
      ]
     },
     "execution_count": 32,
     "metadata": {},
     "output_type": "execute_result"
    }
   ],
   "source": [
    "cwd\n",
    "cwd.parent"
   ]
  },
  {
   "cell_type": "code",
   "execution_count": 29,
   "id": "d87c031c-6a87-4932-9d8a-818715083146",
   "metadata": {},
   "outputs": [
    {
     "data": {
      "text/plain": [
       "WindowsPath('D:/')"
      ]
     },
     "execution_count": 29,
     "metadata": {},
     "output_type": "execute_result"
    }
   ],
   "source": [
    "cwd.parent.parent"
   ]
  },
  {
   "cell_type": "code",
   "execution_count": 28,
   "id": "ccf3135d-2f03-493c-a029-33e2d659a2bd",
   "metadata": {},
   "outputs": [
    {
     "data": {
      "text/plain": [
       "[WindowsPath('D:/Me'), WindowsPath('D:/')]"
      ]
     },
     "execution_count": 28,
     "metadata": {},
     "output_type": "execute_result"
    }
   ],
   "source": [
    "list(cwd.parents)"
   ]
  },
  {
   "cell_type": "code",
   "execution_count": null,
   "id": "6f5f0c82-6a93-4e49-b6dd-87c43039039b",
   "metadata": {},
   "outputs": [],
   "source": []
  },
  {
   "cell_type": "code",
   "execution_count": 33,
   "id": "7ad4f667-7eef-44da-91c0-83378080f16f",
   "metadata": {},
   "outputs": [],
   "source": [
    "import pickle\n",
    "f=open(\"list.pickle\",\"wb\") #wb=바이너리 파일로 쓴다.\n",
    "                        #노트에 열어도 안열림, 바이너리파일이라\n",
    "test=[1,2,3,4,5]\n",
    "pickle.dump(test,f) #여기에 저장해라\n",
    "f.close()"
   ]
  },
  {
   "cell_type": "markdown",
   "id": "62d56166-0c29-4008-abd5-a754cd2da088",
   "metadata": {},
   "source": [
    "-----------------------------------------"
   ]
  },
  {
   "cell_type": "code",
   "execution_count": 34,
   "id": "4bec2cbc-17c3-4087-a37e-84841967c4ec",
   "metadata": {},
   "outputs": [
    {
     "name": "stdout",
     "output_type": "stream",
     "text": [
      "[1, 2, 3, 4, 5]\n"
     ]
    }
   ],
   "source": [
    "f=open(\"list.pickle\",\"rb\") #rb=읽어와라\n",
    "test_print=pickle.load(f)\n",
    "print(test_print)\n",
    "f.close()"
   ]
  },
  {
   "cell_type": "code",
   "execution_count": 35,
   "id": "1b7c3bd8-3c86-4799-ba6c-b9609819fadc",
   "metadata": {},
   "outputs": [],
   "source": [
    "class Multi(object):\n",
    "    def __init__(self,multiplier):\n",
    "        self.multiplier=multiplier\n",
    "\n",
    "    def multiply(self, number):\n",
    "        return number*self.multiplier\n",
    "    \n",
    "    "
   ]
  },
  {
   "cell_type": "code",
   "execution_count": 36,
   "id": "ba55badf-355f-418d-8e36-b7f1a59afb92",
   "metadata": {},
   "outputs": [
    {
     "data": {
      "text/plain": [
       "500"
      ]
     },
     "execution_count": 36,
     "metadata": {},
     "output_type": "execute_result"
    }
   ],
   "source": [
    "multiply=Multi(5)\n",
    "multiply.multiply(100)"
   ]
  },
  {
   "cell_type": "code",
   "execution_count": 37,
   "id": "421a0514-f24b-41fd-bb8e-743313152299",
   "metadata": {},
   "outputs": [
    {
     "name": "stderr",
     "output_type": "stream",
     "text": [
      "WARNING:root:조심!!\n",
      "ERROR:root:에러났다\n",
      "CRITICAL:root:망했다...\n"
     ]
    }
   ],
   "source": [
    "import logging\n",
    "\n",
    "logging.debug(\"틀렸음\") #개발시 처리 기록을 남겨야하는 로그정보 남김\n",
    "logging.info(\"확인해\") #처리가 진행되는 동안의 정보를 알림\n",
    "logging.warning(\"조심!!\")#사용자가 잘못 입력한 정보나 처리는 가능. 원래 개발시 의도치 않은 정보가 들어왔을때 알림\\\n",
    "logging.error(\"에러났다\")#잘못된 처리로 인해 에러남. 프로그램동작은 가능\n",
    "logging.critical(\"망했다...\")#잘못된 처리로 데이터 손실이나 더이상 프로그램 동작할수없음 알림\n",
    "\n"
   ]
  },
  {
   "cell_type": "code",
   "execution_count": null,
   "id": "66d2fc97-218b-4b9a-80d9-7abec5bb8832",
   "metadata": {},
   "outputs": [],
   "source": []
  },
  {
   "cell_type": "code",
   "execution_count": null,
   "id": "6970a151-ba70-44c2-a1b9-c8a16deb8afa",
   "metadata": {},
   "outputs": [],
   "source": []
  },
  {
   "cell_type": "code",
   "execution_count": null,
   "id": "efac176f-057a-42f2-9b0e-8094eac1c8c3",
   "metadata": {},
   "outputs": [],
   "source": []
  },
  {
   "cell_type": "code",
   "execution_count": null,
   "id": "96aa7502-f704-4586-9ad2-10c4309a8a70",
   "metadata": {},
   "outputs": [],
   "source": []
  }
 ],
 "metadata": {
  "kernelspec": {
   "display_name": "Python 3 (ipykernel)",
   "language": "python",
   "name": "python3"
  },
  "language_info": {
   "codemirror_mode": {
    "name": "ipython",
    "version": 3
   },
   "file_extension": ".py",
   "mimetype": "text/x-python",
   "name": "python",
   "nbconvert_exporter": "python",
   "pygments_lexer": "ipython3",
   "version": "3.12.2"
  }
 },
 "nbformat": 4,
 "nbformat_minor": 5
}
