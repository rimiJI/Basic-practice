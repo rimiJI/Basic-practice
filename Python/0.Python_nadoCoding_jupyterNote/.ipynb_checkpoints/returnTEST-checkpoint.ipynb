{
 "cells": [
  {
   "cell_type": "code",
   "execution_count": 32,
   "id": "b34c7a2a-5362-454f-b50b-1f1976f3236c",
   "metadata": {},
   "outputs": [
    {
     "name": "stdin",
     "output_type": "stream",
     "text": [
      " -1\n"
     ]
    },
    {
     "name": "stdout",
     "output_type": "stream",
     "text": [
      "0\n",
      "0\n"
     ]
    }
   ],
   "source": [
    "a=int(input()) #integer숫자로 쓸거다.\n",
    "abit=~a #비트단위 연산자\n",
    "print(abit)\n",
    "aten=\"%o\"%abit #십진수로 바기기\n",
    "print(aten) #인쇄"
   ]
  },
  {
   "cell_type": "code",
   "execution_count": 43,
   "id": "4877ef44-05fb-468b-8597-eac2452bbe51",
   "metadata": {},
   "outputs": [
    {
     "name": "stdin",
     "output_type": "stream",
     "text": [
      " 3 5\n"
     ]
    },
    {
     "name": "stdout",
     "output_type": "stream",
     "text": [
      "-8\n"
     ]
    }
   ],
   "source": [
    "# 두 개의 정수를 입력받습니다.\n",
    "a, b = input().split()\n",
    "a = int(a)\n",
    "b = int(b)\n",
    "\n",
    "# 두 정수의 OR 연산 후 NOT 연산을 수행합니다.\n",
    "c = ~(a | b)\n",
    "\n",
    "# 결과를 출력합니다.\n",
    "print(c)"
   ]
  },
  {
   "cell_type": "code",
   "execution_count": 44,
   "id": "16bbca90-7233-4b9d-94fc-d204110a2360",
   "metadata": {},
   "outputs": [
    {
     "name": "stdin",
     "output_type": "stream",
     "text": [
      " 3 5\n"
     ]
    },
    {
     "name": "stdout",
     "output_type": "stream",
     "text": [
      "-8\n"
     ]
    }
   ],
   "source": [
    "# 두 개의 정수를 입력받습니다.\n",
    "a, b = input().split()\n",
    "a = int(a)\n",
    "b = int(b)\n",
    "\n",
    "# 비트 단위 NOT 연산을 각각 수행한 후 AND 연산을 수행합니다.\n",
    "c = ~a & ~b\n",
    "\n",
    "# 결과를 출력합니다.\n",
    "print(c)"
   ]
  },
  {
   "cell_type": "code",
   "execution_count": null,
   "id": "978f42a4-fdad-4784-8bd7-bbf42c08b9a2",
   "metadata": {},
   "outputs": [],
   "source": []
  },
  {
   "cell_type": "code",
   "execution_count": 45,
   "id": "d9279092-fa15-48e3-9c02-c6b6d63c22e3",
   "metadata": {},
   "outputs": [
    {
     "name": "stdin",
     "output_type": "stream",
     "text": [
      " 3 5\n"
     ]
    },
    {
     "name": "stdout",
     "output_type": "stream",
     "text": [
      "-8\n"
     ]
    }
   ],
   "source": [
    "# 두 개의 정수를 입력받습니다.\n",
    "a, b = input().split()\n",
    "a = int(a)\n",
    "b = int(b)\n",
    "\n",
    "# 두 정수의 OR 연산 후 NOT 연산을 수행합니다.\n",
    "c = ~(a | b)\n",
    "\n",
    "# 결과를 출력합니다.\n",
    "print(c)"
   ]
  },
  {
   "cell_type": "code",
   "execution_count": 47,
   "id": "534c675c-8bbe-4e19-9ddc-0876e6a012d3",
   "metadata": {},
   "outputs": [
    {
     "data": {
      "text/plain": [
       "'r_g_b'"
      ]
     },
     "execution_count": 47,
     "metadata": {},
     "output_type": "execute_result"
    }
   ],
   "source": [
    "color=['r','g','b']\n",
    "\"_\".join(color)"
   ]
  },
  {
   "cell_type": "code",
   "execution_count": 50,
   "id": "404fdd51-f03b-434e-9b6c-58bb001b0978",
   "metadata": {},
   "outputs": [
    {
     "data": {
      "text/plain": [
       "[0, 1, 2, 3, 4, 5, 6, 7, 8, 9]"
      ]
     },
     "execution_count": 50,
     "metadata": {},
     "output_type": "execute_result"
    }
   ],
   "source": [
    "result=[i for i in range(10)]\n",
    "result"
   ]
  },
  {
   "cell_type": "code",
   "execution_count": 51,
   "id": "d1dfe54f-961c-40ba-8d8f-2312f8d72670",
   "metadata": {},
   "outputs": [
    {
     "data": {
      "text/plain": [
       "[0, 2, 4, 6, 8]"
      ]
     },
     "execution_count": 51,
     "metadata": {},
     "output_type": "execute_result"
    }
   ],
   "source": [
    "result=[i for i in range(10)  if i%2==0]\n",
    "result"
   ]
  },
  {
   "cell_type": "code",
   "execution_count": 53,
   "id": "f72738a6-964f-4c2c-8c55-e7dd79014543",
   "metadata": {},
   "outputs": [
    {
     "name": "stdin",
     "output_type": "stream",
     "text": [
      " 메롱 사과\n"
     ]
    },
    {
     "data": {
      "text/plain": [
       "['메사', '메과', '롱사', '롱과']"
      ]
     },
     "execution_count": 53,
     "metadata": {},
     "output_type": "execute_result"
    }
   ],
   "source": [
    "a,b=input().split()\n",
    "result=[i+j for i in a for j in b]\n",
    "result"
   ]
  },
  {
   "cell_type": "code",
   "execution_count": 54,
   "id": "60096064-2507-47b1-8934-8e310927e35d",
   "metadata": {},
   "outputs": [
    {
     "name": "stdin",
     "output_type": "stream",
     "text": [
      " 메론 메두사\n"
     ]
    },
    {
     "data": {
      "text/plain": [
       "['메두', '메사', '론메', '론두', '론사']"
      ]
     },
     "execution_count": 54,
     "metadata": {},
     "output_type": "execute_result"
    }
   ],
   "source": [
    "a,b=input().split()\n",
    "result=[i+j for i in a for j in b  if not i==j]\n",
    "result"
   ]
  },
  {
   "cell_type": "code",
   "execution_count": 84,
   "id": "5e706d12-5f2b-473b-8058-5b04dbdb68ab",
   "metadata": {},
   "outputs": [
    {
     "name": "stdout",
     "output_type": "stream",
     "text": [
      "['The', 'quick', 'brown', 'fox', 'jumps', 'over', 'the', 'lazy', 'dog']\n",
      "<class 'list'>\n",
      "['THE', 'the', 3]\n",
      "['QUICK', 'quick', 5]\n",
      "['BROWN', 'brown', 5]\n",
      "['FOX', 'fox', 3]\n",
      "['JUMPS', 'jumps', 5]\n",
      "['OVER', 'over', 4]\n",
      "['THE', 'the', 3]\n",
      "['LAZY', 'lazy', 4]\n",
      "['DOG', 'dog', 3]\n"
     ]
    }
   ],
   "source": [
    "word =\"The quick brown fox jumps over the lazy dog\".split()\n",
    "print(word)\n",
    "print(type(word))\n",
    "out=[[i.upper(),i.lower(),len(i)] for i in word]\n",
    "for j in out:\n",
    "    print(j)\n"
   ]
  },
  {
   "cell_type": "code",
   "execution_count": 86,
   "id": "b607a687-8c61-494c-82b3-c9a9045d30b8",
   "metadata": {},
   "outputs": [
    {
     "data": {
      "text/plain": [
       "['The', 'quick', 'brown', 'fox', 'jumps', 'over', 'the', 'lazy', 'dog']"
      ]
     },
     "execution_count": 86,
     "metadata": {},
     "output_type": "execute_result"
    }
   ],
   "source": [
    "word =\"The quick brown fox jumps over the lazy dog\".split()\n",
    "word\n"
   ]
  },
  {
   "cell_type": "code",
   "execution_count": 92,
   "id": "605f5666-e273-4a61-b9bc-0ef366c68fdc",
   "metadata": {},
   "outputs": [
    {
     "name": "stdout",
     "output_type": "stream",
     "text": [
      "[['the', 3],\n",
      " ['quick', 5],\n",
      " ['brown', 5],\n",
      " ['fox', 3],\n",
      " ['jumps', 5],\n",
      " ['over', 4],\n",
      " ['the', 3],\n",
      " ['lazy', 4],\n",
      " ['dog', 3]]\n"
     ]
    }
   ],
   "source": [
    "word =\"The quick brown fox jumps over the lazy dog\".split()\n",
    "pprint.pprint([[w.lower(), len(w)] for w in word])"
   ]
  },
  {
   "cell_type": "code",
   "execution_count": 96,
   "id": "12a0aa9e-7f59-40f4-a337-0ec337571b60",
   "metadata": {},
   "outputs": [
    {
     "name": "stdout",
     "output_type": "stream",
     "text": [
      "['AD', 'AE', 'AF', 'BD', 'BE', 'BF', 'CD', 'CE', 'CF']\n",
      "[['AD', 'BD', 'CD'], ['AE', 'BE', 'CE'], ['AF', 'BF', 'CF']]\n"
     ]
    }
   ],
   "source": [
    "a=['A','B','C']\n",
    "b=['D','E','F']\n",
    "#1)꺾쇠 한개\n",
    "re=[i+j for i in a for j in b]\n",
    "print(re)\n",
    "#2)꺾쇠 중간에 하나더\n",
    "re2=[[i+j for i in a]for j in b]\n",
    "print(re2)"
   ]
  },
  {
   "cell_type": "code",
   "execution_count": 100,
   "id": "514d3c9f-0425-4af6-83f8-658e178c4c44",
   "metadata": {},
   "outputs": [
    {
     "name": "stdout",
     "output_type": "stream",
     "text": [
      "0 초\n",
      "1 노\n",
      "2 주\n",
      "3 빨\n"
     ]
    }
   ],
   "source": [
    "for idx, v in enumerate(['초','노','주','빨']):\n",
    "    print(idx,v)"
   ]
  },
  {
   "cell_type": "code",
   "execution_count": 101,
   "id": "a075c231-5a7b-4cb5-9ccb-5f64237f9a43",
   "metadata": {},
   "outputs": [
    {
     "name": "stdout",
     "output_type": "stream",
     "text": [
      "0 \t 오\n",
      "1 \t 잉\n",
      "2 \t 또\n",
      "3 \t 잉\n"
     ]
    }
   ],
   "source": [
    "for i,v in enumerate(\"오잉또잉\"):\n",
    "    print(f\"{i} \\t {v}\") #\\t는 tab키 "
   ]
  },
  {
   "cell_type": "code",
   "execution_count": 106,
   "id": "eaa4585e-0186-4953-b49d-932bb0b6f521",
   "metadata": {},
   "outputs": [
    {
     "data": {
      "text/plain": [
       "{'오': 0, '잉': 3, '또': 2}"
      ]
     },
     "execution_count": 106,
     "metadata": {},
     "output_type": "execute_result"
    }
   ],
   "source": [
    "a=\"오잉또잉\"\n",
    "{j : i for i,j in enumerate(a)}"
   ]
  },
  {
   "cell_type": "code",
   "execution_count": 110,
   "id": "3cd40691-b04b-492b-b2b1-9f9df153cad5",
   "metadata": {},
   "outputs": [
    {
     "data": {
      "text/plain": [
       "{'as': 0,\n",
       " 'Group[3]': 1,\n",
       " 'Korea': 2,\n",
       " 'stylized': 3,\n",
       " '삼성;': 4,\n",
       " '(Korean:': 5,\n",
       " 'RR:': 6,\n",
       " 'City,': 7,\n",
       " 'samseong': 8,\n",
       " 'Samsung': 9,\n",
       " 'is': 10,\n",
       " 'multinational': 11,\n",
       " 'Korean': 12,\n",
       " 'headquartered': 13,\n",
       " 'in': 14,\n",
       " 'Hanja:': 15,\n",
       " '三星;': 16,\n",
       " '[samsʌŋ];': 17,\n",
       " 'SΛMSUNG)': 18,\n",
       " 'Suwon,': 19,\n",
       " 'South': 20,\n",
       " 'conglomerate': 21,\n",
       " 'Digital': 22,\n",
       " 'a': 23,\n",
       " 'manufacturing': 24}"
      ]
     },
     "execution_count": 110,
     "metadata": {},
     "output_type": "execute_result"
    }
   ],
   "source": [
    "text=\"Samsung Group[3] (Korean: 삼성; Hanja: 三星; RR: samseong [samsʌŋ]; stylized as SΛMSUNG) is a South Korean multinational manufacturing conglomerate headquartered in Samsung Digital City, Suwon, South Korea\"\n",
    "textli=list(set(text.split())) #단어별로 나눠줌. set으로 중복삭제, list로 만듦\n",
    "{j:i for i,j in enumerate(textli)} #인덱스번호 부여 "
   ]
  },
  {
   "cell_type": "code",
   "execution_count": 111,
   "id": "99eaa848-3844-44b1-b305-3b3ac4b3e050",
   "metadata": {},
   "outputs": [
    {
     "data": {
      "text/plain": [
       "[['말', '두'], ['랑', '부']]"
      ]
     },
     "execution_count": 111,
     "metadata": {},
     "output_type": "execute_result"
    }
   ],
   "source": [
    "a=['말','랑']\n",
    "b=['두','부']\n",
    "[[i,j]for i,j in zip(a,b)]"
   ]
  },
  {
   "cell_type": "code",
   "execution_count": 126,
   "id": "2ba53603-0bf2-4d89-b9b5-5a1bfb2ac174",
   "metadata": {},
   "outputs": [
    {
     "name": "stdout",
     "output_type": "stream",
     "text": [
      "0 : ('말', '두')\n",
      "1 : ('랑', '부')\n"
     ]
    }
   ],
   "source": [
    "a=['말','랑']\n",
    "b=['두','부']\n",
    "for i,vel in enumerate(zip(a,b)):   #i:j라 표현하겠다. zip으로 바꾼 리스트를 ,enum으로 인덱스 붙여서, 생성한다.\n",
    "    print(i,\":\",vel)"
   ]
  },
  {
   "cell_type": "code",
   "execution_count": 128,
   "id": "5f6f3e1d-75a7-474d-8554-5ad60920a26e",
   "metadata": {},
   "outputs": [
    {
     "data": {
      "text/plain": [
       "5"
      ]
     },
     "execution_count": 128,
     "metadata": {},
     "output_type": "execute_result"
    }
   ],
   "source": [
    "#lambda함수는 그냥 함수를 여러줄 쓰기 싫어서 간단하게 리턴값까지 들어있는 함수\n",
    "f=(lambda x,y :x+y)\n",
    "f(3,2)"
   ]
  },
  {
   "cell_type": "code",
   "execution_count": 132,
   "id": "5f4bacd3-3c69-49c6-b500-0dd2575c0e66",
   "metadata": {},
   "outputs": [
    {
     "data": {
      "text/plain": [
       "'HAPPY DOG,happy dog'"
      ]
     },
     "execution_count": 132,
     "metadata": {},
     "output_type": "execute_result"
    }
   ],
   "source": [
    "aaa= lambda x : x.upper()+\",\"+x.lower()\n",
    "aaa(\"Happy dog\")"
   ]
  },
  {
   "cell_type": "code",
   "execution_count": 138,
   "id": "babd2517-02d4-4158-b9a2-d21960653182",
   "metadata": {},
   "outputs": [
    {
     "data": {
      "text/plain": [
       "[3, 4, 5, 6, 7]"
      ]
     },
     "execution_count": 138,
     "metadata": {},
     "output_type": "execute_result"
    }
   ],
   "source": [
    "#for in 과 비슷한 map 함수\n",
    "def f(x):\n",
    "    return x+2\n",
    "a=[1,2,3,4,5]\n",
    "\n",
    "list(map(f,a)) #list로 안깜싸면 오류남, map(함수명,변수명)"
   ]
  },
  {
   "cell_type": "code",
   "execution_count": 143,
   "id": "1ee5a39f-e7be-45de-b013-11fb760d0b1c",
   "metadata": {},
   "outputs": [
    {
     "name": "stdout",
     "output_type": "stream",
     "text": [
      "15\n"
     ]
    }
   ],
   "source": [
    "from functools import reduce #functools라는 파일에, reduce 함수 불러옴\n",
    "print(reduce(lambda x,y :x+y ,[1,2,3,4,5])) #reduce(lambda a,b : a+b, 리스트))"
   ]
  },
  {
   "cell_type": "markdown",
   "id": "a17b3135-0847-4576-920c-1736397892c1",
   "metadata": {},
   "source": [
    "/////////////////////////////////////////////////////////////////////////////////////"
   ]
  },
  {
   "cell_type": "code",
   "execution_count": 15,
   "id": "1bd9ec7a-4a15-4774-b876-be895639a40d",
   "metadata": {},
   "outputs": [
    {
     "name": "stdin",
     "output_type": "stream",
     "text": [
      " 5 3\n"
     ]
    },
    {
     "name": "stdout",
     "output_type": "stream",
     "text": [
      "8.000\n",
      "8.000\n"
     ]
    }
   ],
   "source": [
    "a,b=input().split(' ')\n",
    "a=float(a)\n",
    "b=float(b)\n",
    "c=a+b\n",
    "print(format(c,\".3f\"))\n",
    "print(f\"{c:.3f}\")"
   ]
  },
  {
   "cell_type": "code",
   "execution_count": null,
   "id": "79f2b8a8-be71-494e-af18-4a5ef42dc858",
   "metadata": {},
   "outputs": [],
   "source": []
  },
  {
   "cell_type": "code",
   "execution_count": 16,
   "id": "a609cf2d-d6cc-4e1a-8e46-3b099d4e0c95",
   "metadata": {},
   "outputs": [
    {
     "name": "stdin",
     "output_type": "stream",
     "text": [
      " 2 5\n"
     ]
    },
    {
     "name": "stdout",
     "output_type": "stream",
     "text": [
      "7\n",
      "-3\n",
      "10\n",
      "0\n",
      "2\n",
      "0.40\n"
     ]
    }
   ],
   "source": [
    "a,b=input().split(\" \")\n",
    "a=int(a)\n",
    "b=int(b)\n",
    "\n",
    "print(a+b)\n",
    "print(a-b)\n",
    "print(a*b)\n",
    "print(a//b)\n",
    "print(a%b)\n",
    "print(f\"{a/b:.2f}\")\n",
    "\n",
    "\n",
    "\n",
    "\n"
   ]
  },
  {
   "cell_type": "code",
   "execution_count": 18,
   "id": "74671743-ccfe-4f49-be55-75024446d2f0",
   "metadata": {},
   "outputs": [
    {
     "name": "stdin",
     "output_type": "stream",
     "text": [
      " 4 5 6\n"
     ]
    },
    {
     "name": "stdout",
     "output_type": "stream",
     "text": [
      "15 5.00\n"
     ]
    }
   ],
   "source": [
    "a,b,c=input().split()\n",
    "a=int(a)\n",
    "b=int(b)\n",
    "c=int(c)\n",
    "asum=a+b+c\n",
    "aver=format(asum/3,\".2f\")\n",
    "print(asum,aver)\n"
   ]
  },
  {
   "cell_type": "code",
   "execution_count": 19,
   "id": "92492247-3fbc-4d64-8545-55b5aa0a4802",
   "metadata": {},
   "outputs": [
    {
     "name": "stdin",
     "output_type": "stream",
     "text": [
      " 5 4\n"
     ]
    },
    {
     "name": "stdout",
     "output_type": "stream",
     "text": [
      "False\n"
     ]
    }
   ],
   "source": [
    "a,b=input().split()\n",
    "print(bool(int(a)) != bool(int(b)))"
   ]
  },
  {
   "cell_type": "code",
   "execution_count": null,
   "id": "fce8d19a-f6b8-445a-9911-e985ba00f931",
   "metadata": {},
   "outputs": [],
   "source": [
    "a,b=input().split(' ')\n",
    "a=float(a)\n",
    "b=float(b)\n",
    "print(a/b)"
   ]
  },
  {
   "cell_type": "code",
   "execution_count": 7,
   "id": "61eff3de-8528-4c56-ad7f-19f8469d9f58",
   "metadata": {},
   "outputs": [
    {
     "data": {
      "text/plain": [
       "array([[ 1., -1.],\n",
       "       [ 0.,  1.]])"
      ]
     },
     "execution_count": 7,
     "metadata": {},
     "output_type": "execute_result"
    }
   ],
   "source": [
    "\n",
    "import numpy as np\n",
    "\n",
    "a=np.array([[1,1]\n",
    "          ,[0,1]])\n",
    "np.linalg.inv(a)\n"
   ]
  },
  {
   "cell_type": "code",
   "execution_count": 8,
   "id": "eaf19b69-7834-40f8-9111-9e1e319c6689",
   "metadata": {},
   "outputs": [
    {
     "data": {
      "text/plain": [
       "3"
      ]
     },
     "execution_count": 8,
     "metadata": {},
     "output_type": "execute_result"
    }
   ],
   "source": [
    "np.inner(np.array([1, -2, 3]), np.array([1, -1, 0]))"
   ]
  },
  {
   "cell_type": "code",
   "execution_count": 1,
   "id": "49761944-8ffd-4bf8-9975-806963ed1104",
   "metadata": {},
   "outputs": [
    {
     "name": "stdin",
     "output_type": "stream",
     "text": [
      " 안녕\n"
     ]
    },
    {
     "name": "stdout",
     "output_type": "stream",
     "text": [
      "안\n",
      "녕\n"
     ]
    },
    {
     "ename": "IndexError",
     "evalue": "string index out of range",
     "output_type": "error",
     "traceback": [
      "\u001b[1;31m---------------------------------------------------------------------------\u001b[0m",
      "\u001b[1;31mIndexError\u001b[0m                                Traceback (most recent call last)",
      "Cell \u001b[1;32mIn[1], line 5\u001b[0m\n\u001b[0;32m      3\u001b[0m \u001b[38;5;28mprint\u001b[39m(a[\u001b[38;5;241m0\u001b[39m])\n\u001b[0;32m      4\u001b[0m \u001b[38;5;28mprint\u001b[39m(a[\u001b[38;5;241m1\u001b[39m])\n\u001b[1;32m----> 5\u001b[0m \u001b[38;5;28mprint\u001b[39m(\u001b[43ma\u001b[49m\u001b[43m[\u001b[49m\u001b[38;5;241;43m2\u001b[39;49m\u001b[43m]\u001b[49m)\n\u001b[0;32m      6\u001b[0m \u001b[38;5;28mprint\u001b[39m(a[\u001b[38;5;241m3\u001b[39m])\n\u001b[0;32m      7\u001b[0m \u001b[38;5;28mprint\u001b[39m(a[\u001b[38;5;241m4\u001b[39m])\n",
      "\u001b[1;31mIndexError\u001b[0m: string index out of range"
     ]
    }
   ],
   "source": [
    "a=input()\n",
    "\n",
    "print(a[0])\n",
    "print(a[1])\n",
    "print(a[2])\n",
    "print(a[3])\n",
    "print(a[4])\n"
   ]
  },
  {
   "cell_type": "markdown",
   "id": "03f1ab95-32a4-4661-b4d3-7a0dddb64d7a",
   "metadata": {},
   "source": [
    "////////////////////////////////////////////////////////////////"
   ]
  },
  {
   "cell_type": "code",
   "execution_count": 2,
   "id": "31cd21f0-a4dc-4eb4-9f31-4656adaa4f09",
   "metadata": {},
   "outputs": [],
   "source": [
    "a=[1,2,3,4,5,6,7]\n",
    "c=a.pop()"
   ]
  },
  {
   "cell_type": "code",
   "execution_count": 3,
   "id": "9f5c8865-508d-469d-8dcb-3ffd3746e1b7",
   "metadata": {},
   "outputs": [
    {
     "name": "stdout",
     "output_type": "stream",
     "text": [
      "7\n"
     ]
    }
   ],
   "source": [
    "print(c)"
   ]
  },
  {
   "cell_type": "code",
   "execution_count": 4,
   "id": "b98299ee-55a0-49cb-83b4-2e0082a1d918",
   "metadata": {},
   "outputs": [
    {
     "name": "stdout",
     "output_type": "stream",
     "text": [
      "[1, 2, 3, 4, 5, 6]\n"
     ]
    }
   ],
   "source": [
    "print(a)"
   ]
  },
  {
   "cell_type": "code",
   "execution_count": 6,
   "id": "5ae315a9-7af1-4b42-a643-9b19f8bd9fdd",
   "metadata": {},
   "outputs": [
    {
     "name": "stdout",
     "output_type": "stream",
     "text": [
      "[1, 3, 3, 4, 7, 8]\n",
      "[3, 7, 3, 8, 1, 4]\n"
     ]
    }
   ],
   "source": [
    "b=[3,7,3,8,1,4]\n",
    "print(sorted(b))\n",
    "print(b)"
   ]
  },
  {
   "cell_type": "code",
   "execution_count": 7,
   "id": "e66a1bee-7e20-4bd7-8535-e3056a8b8e56",
   "metadata": {},
   "outputs": [
    {
     "name": "stdout",
     "output_type": "stream",
     "text": [
      "None\n",
      "[1, 3, 3, 4, 7, 8]\n"
     ]
    }
   ],
   "source": [
    "print(b.sort())\n",
    "print(b)"
   ]
  },
  {
   "cell_type": "code",
   "execution_count": null,
   "id": "1a69ffe6-6e13-4515-8551-566aef6a7ef2",
   "metadata": {},
   "outputs": [],
   "source": []
  },
  {
   "cell_type": "code",
   "execution_count": 10,
   "id": "f47b6227-2f76-4207-b127-a8e9de8ad796",
   "metadata": {},
   "outputs": [
    {
     "name": "stdout",
     "output_type": "stream",
     "text": [
      "글씨써라:  안녕하쇼\n"
     ]
    },
    {
     "name": "stdout",
     "output_type": "stream",
     "text": [
      "쇼\n",
      "남은글자 ['안', '녕', '하']\n",
      "하\n",
      "남은글자 ['안', '녕']\n",
      "녕\n",
      "남은글자 ['안']\n",
      "안\n",
      "남은글자 []\n"
     ]
    }
   ],
   "source": [
    "word = list(input(\"글씨써라: \")) #받은 글을 리스트형으로 전환\n",
    "\n",
    "for _ in range(len(word)):\n",
    "    print(word.pop())\n",
    "    print(\"남은글자\",word)"
   ]
  },
  {
   "cell_type": "code",
   "execution_count": 19,
   "id": "48c3f0b5-a259-48ba-a710-cb1ad1631117",
   "metadata": {},
   "outputs": [
    {
     "name": "stdout",
     "output_type": "stream",
     "text": [
      "[1]\n"
     ]
    }
   ],
   "source": [
    "a=[]\n",
    "a.append(1)\n",
    "a.append(19)\n",
    "a.pop()\n",
    "a.append(9)\n",
    "a.append(3)\n",
    "a.pop()\n",
    "a.pop()\n",
    "\n",
    "print(a)"
   ]
  },
  {
   "cell_type": "code",
   "execution_count": null,
   "id": "ad9f7b25-4659-4bdc-86d5-2c141356ddc0",
   "metadata": {},
   "outputs": [],
   "source": [
    "a =\"String Indexing\"\n",
    "a[6:]"
   ]
  },
  {
   "cell_type": "code",
   "execution_count": 1,
   "id": "56359e36-c959-4905-947c-59da42cb4f41",
   "metadata": {},
   "outputs": [
    {
     "name": "stdout",
     "output_type": "stream",
     "text": [
      "['a', 'press', 'release', 'is', 'the', 'quickest', 'and', 'easiest', 'way', 'to', 'get', 'free', 'publicity.', 'if', 'well', 'written,', 'a', 'press', 'release', 'can', 'result', 'in', 'multiple', 'published', 'articles', 'about', 'your', 'firm', 'and', 'its', 'products.', 'and', 'that', 'can', 'mean', 'new', 'prospects', 'contacting', 'you', 'asking', 'you', 'to', 'sell', 'to', 'them.', '….']\n"
     ]
    }
   ],
   "source": [
    "text = \"\"\"A press release is the quickest and easiest way to get free publicity. If\n",
    "well written, a press release can result in multiple published articles about your\n",
    "firm and its products. And that can mean new prospects contacting you asking you to\n",
    "sell to them. ….\"\"\".lower().split()\n",
    "print(text) \n"
   ]
  },
  {
   "cell_type": "code",
   "execution_count": 122,
   "id": "c9a1edb9-e7cd-4181-a8bb-81f64b0bdb2d",
   "metadata": {},
   "outputs": [],
   "source": [
    "# from collections import OrderedDict\n",
    "# wordcount=defaultdict(lambda:0)\n",
    "# for i in text:\n",
    "#     wordcount[i]+=1\n",
    "#     for j,k in OrderedDict(sorted( word_count.items(), key=lambda t: t[1], reverse=True)).items():\n",
    "#         print(j,k)"
   ]
  },
  {
   "cell_type": "markdown",
   "id": "6ae28b91-6947-43b0-af4a-6248bd2ff10c",
   "metadata": {},
   "source": [
    "#counter\n",
    "\n",
    "'''시퀸스 타입의 데이터엘리먼트 갯수를 dict 형태로 반환'''"
   ]
  },
  {
   "cell_type": "code",
   "execution_count": 9,
   "id": "fff40a3f-faa1-48cf-9a90-4de3f6191af4",
   "metadata": {},
   "outputs": [
    {
     "name": "stdout",
     "output_type": "stream",
     "text": [
      "Counter({'a': 3, 'l': 2, 'g': 1, 'h': 1, 'd': 1})\n"
     ]
    }
   ],
   "source": [
    "from collections import Counter\n",
    "\n",
    "c=Counter('gallahad')\n",
    "print(c)"
   ]
  },
  {
   "cell_type": "code",
   "execution_count": 6,
   "id": "1ea703bb",
   "metadata": {},
   "outputs": [
    {
     "name": "stdout",
     "output_type": "stream",
     "text": [
      "Counter({'s': 4, 'b': 3})\n"
     ]
    }
   ],
   "source": [
    "from collections import Counter\n",
    "balllist=[\"b\",\"s\",\"b\",\"s\",\"s\",\"s\",\"b\"]\n",
    "c=Counter(balllist)\n",
    "print(c)\n"
   ]
  },
  {
   "cell_type": "code",
   "execution_count": 9,
   "id": "829ec107",
   "metadata": {},
   "outputs": [
    {
     "name": "stdout",
     "output_type": "stream",
     "text": [
      "Counter({'배': 5, '사과': 4})\n"
     ]
    }
   ],
   "source": [
    "c=Counter({\"사과\":4,\"배\":5})\n",
    "print(c)"
   ]
  },
  {
   "cell_type": "code",
   "execution_count": 13,
   "id": "568aa084",
   "metadata": {},
   "outputs": [
    {
     "name": "stdout",
     "output_type": "stream",
     "text": [
      "['사과', '사과', '사과', '사과', '배', '배', '배', '배', '배']\n"
     ]
    }
   ],
   "source": [
    "print(list(c.elements()))"
   ]
  },
  {
   "cell_type": "code",
   "execution_count": 25,
   "id": "46b82264",
   "metadata": {},
   "outputs": [
    {
     "name": "stdout",
     "output_type": "stream",
     "text": [
      "['a', 'press', 'release', 'is', 'the', 'quickest', 'and', 'easiest', 'way', 'to', 'get', 'free', 'publicity.', 'ifwell', 'written,', 'a', 'press', 'release', 'can', 'result', 'in', 'multiple', 'published', 'articles', 'about', 'your', 'firm', 'and', 'its', 'products.', 'and', 'that', 'can', 'mean', 'new', 'prospects', 'contacting', 'you', 'asking', 'you', 'to', 'sell', 'to', 'them.', '….']\n"
     ]
    }
   ],
   "source": [
    "text=\"\"\"A press release is the quickest and easiest way to get free publicity. Ifwell written, a press release can result in multiple published articles about your\n",
    "firm and its products. And that can mean new prospects contacting you asking you to\n",
    "sell to them. ….\"\"\".lower().split()\n",
    "print(text)"
   ]
  },
  {
   "cell_type": "code",
   "execution_count": 30,
   "id": "3ca9e5ac",
   "metadata": {},
   "outputs": [
    {
     "name": "stdout",
     "output_type": "stream",
     "text": [
      "Counter({'and': 3, 'to': 3, 'a': 2, 'press': 2, 'release': 2, 'can': 2, 'you': 2, 'is': 1, 'the': 1, 'quickest': 1, 'easiest': 1, 'way': 1, 'get': 1, 'free': 1, 'publicity.': 1, 'ifwell': 1, 'written,': 1, 'result': 1, 'in': 1, 'multiple': 1, 'published': 1, 'articles': 1, 'about': 1, 'your': 1, 'firm': 1, 'its': 1, 'products.': 1, 'that': 1, 'mean': 1, 'new': 1, 'prospects': 1, 'contacting': 1, 'asking': 1, 'sell': 1, 'them.': 1, '….': 1})\n",
      "2\n"
     ]
    }
   ],
   "source": [
    "print(Counter(text))\n",
    "print(Counter(text)['a'])"
   ]
  },
  {
   "cell_type": "code",
   "execution_count": 39,
   "id": "3f60f7a3",
   "metadata": {},
   "outputs": [
    {
     "name": "stdout",
     "output_type": "stream",
     "text": [
      "10\n",
      "2\n",
      "4\n"
     ]
    }
   ],
   "source": [
    "a=list(range(1,6))\n",
    "a[0]=10\n",
    "for i in a:\n",
    "    if i%2==0:\n",
    "        print(i)"
   ]
  },
  {
   "cell_type": "code",
   "execution_count": 50,
   "id": "a1f059ee",
   "metadata": {},
   "outputs": [
    {
     "name": "stdout",
     "output_type": "stream",
     "text": [
      "(1, 20, 3, 4, 5)\n"
     ]
    }
   ],
   "source": [
    "b=(1,2,3,4,5)\n",
    "b=list(b)\n",
    "b[1]=20\n",
    "b=tuple(b)\n",
    "\n",
    "print(b)\n"
   ]
  },
  {
   "cell_type": "code",
   "execution_count": 75,
   "id": "7662323e",
   "metadata": {},
   "outputs": [
    {
     "name": "stdout",
     "output_type": "stream",
     "text": [
      "banana : 10\n",
      "cherry : 7\n"
     ]
    }
   ],
   "source": [
    "c={'apple':3,'banana':5,'cherry':7}\n",
    "c['banana']=10\n",
    "\n",
    "for i,j in c.items():\n",
    "    if j>5:  \n",
    "        print(i,':',j)"
   ]
  },
  {
   "cell_type": "code",
   "execution_count": 90,
   "id": "28a9d53f",
   "metadata": {},
   "outputs": [
    {
     "name": "stdout",
     "output_type": "stream",
     "text": [
      "{1, 2, 3, 4, 5}\n",
      "{1, 2, 3, 4, 5, 6, 7}\n"
     ]
    }
   ],
   "source": [
    "A=set([1,2,3,4,5])\n",
    "B=set([1,2,3,4,5])\n",
    "B=B.union([3,4,5,6,7])\n",
    "\n",
    "print(A & B)\n",
    "print(A | B)"
   ]
  },
  {
   "cell_type": "code",
   "execution_count": 121,
   "id": "004dc4b4",
   "metadata": {},
   "outputs": [
    {
     "name": "stdout",
     "output_type": "stream",
     "text": [
      "40\n"
     ]
    }
   ],
   "source": [
    "for j in range(0,21): \n",
    "    if j%2==0:\n",
    "     j+=j\n",
    "print(j)"
   ]
  },
  {
   "cell_type": "code",
   "execution_count": 130,
   "id": "56bebcb7",
   "metadata": {},
   "outputs": [
    {
     "name": "stdout",
     "output_type": "stream",
     "text": [
      "[2, 4, 6, 8, 10]\n"
     ]
    }
   ],
   "source": [
    "#퀴즈1 짝수만 리스트\n",
    "a=list(range(2,11,2))\n",
    "print(a)"
   ]
  },
  {
   "cell_type": "code",
   "execution_count": 133,
   "id": "a66c72f9",
   "metadata": {},
   "outputs": [
    {
     "name": "stdout",
     "output_type": "stream",
     "text": [
      "My name is Alice and I am 30 years old.\n"
     ]
    }
   ],
   "source": [
    "#퀴즈2 문자열 포매팅\n",
    "name=\"Alice\"\n",
    "age=30\n",
    "print(f\"My name is {name} and I am {age} years old.\")"
   ]
  },
  {
   "cell_type": "code",
   "execution_count": 148,
   "id": "631316fe",
   "metadata": {},
   "outputs": [
    {
     "data": {
      "text/plain": [
       "[['a', 1], ['b', 2], ['c', 3]]"
      ]
     },
     "execution_count": 148,
     "metadata": {},
     "output_type": "execute_result"
    }
   ],
   "source": [
    "#3번 모르겠음\n",
    "a=['a','b','c']\n",
    "b=[1,2,3]\n",
    "[[i,j] for i,j in zip(a,b)]\n"
   ]
  },
  {
   "cell_type": "code",
   "execution_count": null,
   "id": "02556717",
   "metadata": {},
   "outputs": [],
   "source": [
    "#4번 처음 들어봄.예제로 설명 부탁"
   ]
  },
  {
   "cell_type": "code",
   "execution_count": 155,
   "id": "9da528f8",
   "metadata": {},
   "outputs": [
    {
     "name": "stdout",
     "output_type": "stream",
     "text": [
      "a 1\n",
      "b 2\n",
      "c 3\n"
     ]
    }
   ],
   "source": [
    "#5 zip함수 모르겠어...\n",
    "aa=['a','b','c']\n",
    "bb=[1,2,3]\n",
    "\n",
    "for a,b in zip(aa,bb):\n",
    "    print(a,b)"
   ]
  },
  {
   "cell_type": "markdown",
   "id": "ccc52d7a-f956-4f37-b2c6-91a5c6146147",
   "metadata": {},
   "source": [
    " # 24.5.30"
   ]
  },
  {
   "cell_type": "code",
   "execution_count": 5,
   "id": "b7df37d6-17a8-4f8e-b7b4-cc2a9e49a918",
   "metadata": {},
   "outputs": [
    {
     "name": "stdin",
     "output_type": "stream",
     "text": [
      " 5 6\n"
     ]
    },
    {
     "name": "stdout",
     "output_type": "stream",
     "text": [
      "7\n"
     ]
    }
   ],
   "source": [
    "a,b=input().split()\n",
    "print(int(a)|int(b))\n"
   ]
  },
  {
   "cell_type": "code",
   "execution_count": 9,
   "id": "4cde61ae-47b2-4f56-896f-4820cf1513cd",
   "metadata": {},
   "outputs": [
    {
     "name": "stdin",
     "output_type": "stream",
     "text": [
      " 5 6\n"
     ]
    },
    {
     "name": "stdout",
     "output_type": "stream",
     "text": [
      "3\n"
     ]
    }
   ],
   "source": [
    "a,b=input().split() # ^으로 비트단위 연산에서_서로 다른 배타적 논리합의 뜻_ 다를때 1, 같을때 0\n",
    "print(int(a)^int(b))"
   ]
  },
  {
   "cell_type": "code",
   "execution_count": 11,
   "id": "8d8f729d-9e1a-4c80-86f7-de2ad86220de",
   "metadata": {},
   "outputs": [
    {
     "name": "stdin",
     "output_type": "stream",
     "text": [
      " 32 90\n"
     ]
    },
    {
     "name": "stdout",
     "output_type": "stream",
     "text": [
      "90\n"
     ]
    }
   ],
   "source": [
    "#No.63, 3항식\n",
    "a,b=input().split()\n",
    "a=int(a)\n",
    "b=int(b)\n",
    "c=(a if a>=b else b)\n",
    "print(c)\n"
   ]
  },
  {
   "cell_type": "code",
   "execution_count": 15,
   "id": "062eb033-b128-4fd5-9951-09f9b7733129",
   "metadata": {},
   "outputs": [
    {
     "name": "stdin",
     "output_type": "stream",
     "text": [
      " 5 -5 5\n"
     ]
    },
    {
     "name": "stdout",
     "output_type": "stream",
     "text": [
      "5\n"
     ]
    }
   ],
   "source": [
    "a,b,c=input().split()\n",
    "a=int(a)\n",
    "b=int(b)\n",
    "c=int(c)\n",
    "D=((a if a>=b else b) if ((a if a>=b else b))>=c else c )\n",
    "print(D)"
   ]
  },
  {
   "cell_type": "code",
   "execution_count": 17,
   "id": "49971c63-5e6c-4b1b-a13a-281721507419",
   "metadata": {},
   "outputs": [
    {
     "name": "stdin",
     "output_type": "stream",
     "text": [
      " 5 2 9\n"
     ]
    },
    {
     "name": "stdout",
     "output_type": "stream",
     "text": [
      "2\n"
     ]
    }
   ],
   "source": [
    "#No.65\n",
    "a,b,c=input().split()\n",
    "a=int(a)\n",
    "b=int(b)\n",
    "c=int(c)\n",
    "\n",
    "if a%2==0:   #논리적으로 한 단위로 처리해야하는 경우 콜론(:)을 찍고, 들여쓰기로 작성 한다.\n",
    "    print(a)\n",
    "if b%2==0:\n",
    "    print(b)\n",
    "if c%2==0:\n",
    "    print(c)\n",
    "\n",
    "# 참고 \n",
    "# if 조건식 :\n",
    "#   실행1  #조건식의 평가값이 True 인 경우 실행시킬 명령을 들여쓰기를 이용해 순서대로 작성한다.\n",
    "#   실행2\n",
    "# 실행3  #들여쓰기를 하지 않은 부분은 조건식에 상관이 없음 "
   ]
  },
  {
   "cell_type": "code",
   "execution_count": 21,
   "id": "e0fe3de9-4291-4f01-9421-f740265948af",
   "metadata": {},
   "outputs": [
    {
     "name": "stdin",
     "output_type": "stream",
     "text": [
      " -9\n"
     ]
    },
    {
     "name": "stdout",
     "output_type": "stream",
     "text": [
      "B\n"
     ]
    }
   ],
   "source": [
    "#No.67 .설명 쓰기\n",
    "n=int(input())\n",
    "\n",
    "if n<0:\n",
    "    if n%2==0:\n",
    "        print('A')\n",
    "    else:\n",
    "        print('B')\n",
    "else:\n",
    "    if n%2==0:\n",
    "        print('C')\n",
    "    else:\n",
    "        print('D')       \n"
   ]
  },
  {
   "cell_type": "code",
   "execution_count": 27,
   "id": "a9612dd2-9fbb-4eaa-9890-4986f3922151",
   "metadata": {},
   "outputs": [
    {
     "name": "stdin",
     "output_type": "stream",
     "text": [
      " 65\n"
     ]
    },
    {
     "name": "stdout",
     "output_type": "stream",
     "text": [
      "C\n"
     ]
    }
   ],
   "source": [
    "#No.68\n",
    "a=int(input())\n",
    "if 90<=a<=100:\n",
    "    print('A')\n",
    "elif 70<=a<90:\n",
    "    print('B')\n",
    "elif 40<=a<70:\n",
    "    print('C')\n",
    "else:\n",
    "    print('D')\n",
    "    \n"
   ]
  },
  {
   "cell_type": "code",
   "execution_count": 29,
   "id": "45da857f-2a10-48b1-bb01-b733bc52b7d1",
   "metadata": {},
   "outputs": [
    {
     "name": "stdin",
     "output_type": "stream",
     "text": [
      " B\n"
     ]
    },
    {
     "name": "stdout",
     "output_type": "stream",
     "text": [
      "good!!\n"
     ]
    }
   ],
   "source": [
    "a=input()\n",
    "if a=='A':\n",
    "    print('best!!!')\n",
    "elif a=='B':\n",
    "    print('good!!')\n",
    "elif a=='C':\n",
    "    print('run!')\n",
    "elif a=='D':\n",
    "    print('slowly~')\n",
    "else:\n",
    "    print('what?')"
   ]
  },
  {
   "cell_type": "code",
   "execution_count": 34,
   "id": "afa40107-49f5-4d8c-9750-4ceeaa7e1aee",
   "metadata": {},
   "outputs": [
    {
     "name": "stdin",
     "output_type": "stream",
     "text": [
      " 9\n"
     ]
    },
    {
     "name": "stdout",
     "output_type": "stream",
     "text": [
      "fall\n"
     ]
    }
   ],
   "source": [
    "#No.70 창의적인 문제 재밌음\n",
    "a=int(input())\n",
    "if a//3==1:\n",
    "    print('spring')\n",
    "elif a//3==2:\n",
    "    print('summer')\n",
    "elif a//3==3:\n",
    "    print('fall')\n",
    "else:\n",
    "    print('winter')"
   ]
  },
  {
   "cell_type": "markdown",
   "id": "6b2129f8-8c21-4cb5-8bbf-0ef57021df2b",
   "metadata": {},
   "source": [
    "# 24.5.31"
   ]
  },
  {
   "cell_type": "code",
   "execution_count": 23,
   "id": "7eed3a13-8cc8-42df-84e9-33050a41cc18",
   "metadata": {},
   "outputs": [
    {
     "name": "stdin",
     "output_type": "stream",
     "text": [
      "카운트다운을 입력하시오:  5\n"
     ]
    },
    {
     "name": "stdout",
     "output_type": "stream",
     "text": [
      "5\n",
      "4\n",
      "3\n",
      "2\n",
      "1\n"
     ]
    }
   ],
   "source": [
    "#No.72\n",
    "\n",
    "n=int(input('카운트다운을 입력하시오: '))\n",
    "\n",
    "while n!=0:\n",
    "    print(n)\n",
    "    n-=1\n"
   ]
  },
  {
   "cell_type": "code",
   "execution_count": null,
   "id": "19f49e68-6b2c-4da2-a7af-64b6e9c730c5",
   "metadata": {},
   "outputs": [],
   "source": []
  },
  {
   "cell_type": "code",
   "execution_count": 24,
   "id": "ea3665b9-8475-430c-a782-79f09efa4b58",
   "metadata": {},
   "outputs": [
    {
     "name": "stdin",
     "output_type": "stream",
     "text": [
      "카운트다운을 입력하시오:  5\n"
     ]
    },
    {
     "name": "stdout",
     "output_type": "stream",
     "text": [
      "4\n",
      "3\n",
      "2\n",
      "1\n",
      "0\n"
     ]
    }
   ],
   "source": [
    "#No.73\n",
    "\n",
    "n=int(input('카운트다운을 입력하시오: '))\n",
    "\n",
    "while n!=0:\n",
    "    print(n-1)\n",
    "    n-=1"
   ]
  },
  {
   "cell_type": "code",
   "execution_count": 26,
   "id": "b8be2a68-49bf-42a2-a606-6cd36499eff2",
   "metadata": {},
   "outputs": [
    {
     "name": "stdin",
     "output_type": "stream",
     "text": [
      " 6\n"
     ]
    },
    {
     "name": "stdout",
     "output_type": "stream",
     "text": [
      "\f",
      "\u000b",
      "a`_^]\\[ZYXWVUTSRQPONMLKJIHGFEDCBA@?>=<;:9876543210/.-,+*)('&%$#\"! \u001f\u001e",
      "\u001d",
      "\u001c",
      "\u001b\u001a\u0019\u0018\u0017\u0016\u0015\u0014\u0013\u0012\u0011\u0010\u000f\u000e\n",
      "\u0007\u0006\u0005\u0004\u0003\u0002\u0001"
     ]
    }
   ],
   "source": [
    "#No74.\n",
    "c=input()\n",
    "c=ord('c')\n",
    "\n",
    "while c > 0:\n",
    "    print(chr(c),end=\"\")\n",
    "    c-=1\n",
    "\n",
    "\n"
   ]
  },
  {
   "cell_type": "code",
   "execution_count": 75,
   "id": "aecce0cd-3d8d-4eba-8b5a-8c5cd7753097",
   "metadata": {},
   "outputs": [
    {
     "name": "stdin",
     "output_type": "stream",
     "text": [
      " d\n"
     ]
    },
    {
     "data": {
      "text/plain": [
       "100"
      ]
     },
     "execution_count": 75,
     "metadata": {},
     "output_type": "execute_result"
    }
   ],
   "source": [
    "c=input()\n",
    "ord(c) #알파벳 ->숫자"
   ]
  },
  {
   "cell_type": "code",
   "execution_count": 90,
   "id": "9b6a353d-faad-42ba-9f2e-e1389d880133",
   "metadata": {},
   "outputs": [
    {
     "name": "stdin",
     "output_type": "stream",
     "text": [
      " a\n"
     ]
    },
    {
     "name": "stdout",
     "output_type": "stream",
     "text": [
      "a\n"
     ]
    }
   ],
   "source": [
    "#No.74\n",
    "\n",
    "n=input()\n",
    "n=ord(n) #문자->숫자\n",
    "t=ord('a') #최소 문자값.시작값 / #문자->숫자\n",
    "while n>t: #입력값이 a보다 크면\n",
    "   print(chr(t),end=\" \") #숫자->문자\n",
    "   t+=1\n",
    "   if n==t: #입력값이 t와 같아지는 단계가 오면\n",
    "      print(chr(n)) #숫자->문자 \n",
    "      break #중단해\n",
    "else:\n",
    "    print(chr(n))\n"
   ]
  },
  {
   "cell_type": "code",
   "execution_count": 78,
   "id": "a36a6310-01f6-42b0-9af9-3dd1e6088777",
   "metadata": {},
   "outputs": [
    {
     "data": {
      "text/plain": [
       "97"
      ]
     },
     "execution_count": 78,
     "metadata": {},
     "output_type": "execute_result"
    }
   ],
   "source": [
    "ord('a')"
   ]
  },
  {
   "cell_type": "code",
   "execution_count": 95,
   "id": "08a16299-27ca-467b-b3d3-a0eae7bd0994",
   "metadata": {},
   "outputs": [
    {
     "name": "stdin",
     "output_type": "stream",
     "text": [
      " 5\n"
     ]
    },
    {
     "name": "stdout",
     "output_type": "stream",
     "text": [
      "0\n",
      "1\n",
      "2\n",
      "3\n",
      "4\n",
      "5\n"
     ]
    }
   ],
   "source": [
    "#No.75\n",
    "a=int(input())\n",
    "z=0\n",
    "while a+1!=z: #조건만족 종료가 아니라, 조건동안 반복이라는 뜻\n",
    "    print(z)\n",
    "    z+=1"
   ]
  },
  {
   "cell_type": "code",
   "execution_count": 98,
   "id": "d83c7c96-b4b5-4ebd-b208-da35e88f545b",
   "metadata": {},
   "outputs": [
    {
     "name": "stdin",
     "output_type": "stream",
     "text": [
      " 5\n"
     ]
    },
    {
     "name": "stdout",
     "output_type": "stream",
     "text": [
      "0\n",
      "1\n",
      "2\n",
      "3\n",
      "4\n",
      "5\n"
     ]
    }
   ],
   "source": [
    "#No.76\n",
    "a=int(input())\n",
    "for i in range(a+1):\n",
    "    print(i)\n",
    "\n",
    "# 참고\n",
    "# range(n) 은 0, 1, 2, ... , n-2, n-1 까지의 수열을 의미한다.\n",
    "# 예를 들어 range(3) 은 0, 1, 2 인 수열을 의미한다.\n",
    "\n",
    "# for i in range(n) :    #range(n)에 들어있는(in) 각각의 수에 대해서(for) 순서대로 i에 저장해 가면서...\n",
    "# 이때의 for는 각각의 값에 대하여... 라는 for each 의 의미를 가진다고 생각할 수 있다.\n",
    "\n",
    "# range(끝)\n",
    "# range(시작, 끝)\n",
    "# range(시작, 끝, 증감)\n",
    "# 형태로 수열을 표현할 수 있다. 시작 수는 포함이고, 끝 수는 포함되지 않는다. [시작, 끝)\n",
    "# 증감할 수를 작성하지 않으면 +1이 된다.\n",
    "\n",
    "# 반복 실행구조에 반복 횟수를 기록/저장하는 변수로 i를 자주 사용하는데,\n",
    "# i 는 반복자(iterator)를 나타내는 i라고 생각할 수 있다. i, j, k ... 알파벳 순으로 사용하기도 한다."
   ]
  },
  {
   "cell_type": "code",
   "execution_count": 101,
   "id": "7c321fca-7550-43c2-ac7f-14552229061d",
   "metadata": {},
   "outputs": [
    {
     "name": "stdin",
     "output_type": "stream",
     "text": [
      " 5\n"
     ]
    },
    {
     "name": "stdout",
     "output_type": "stream",
     "text": [
      "2\n",
      "4\n",
      "6\n"
     ]
    }
   ],
   "source": [
    "#No.77\n",
    "a=int(input())\n",
    "s=0   #저장할 변수\n",
    "\n",
    "for i in range(1,a+1): #포인렌지 돌리기\n",
    "    if i%2==0:         #if로 골라낸 짝수\n",
    "        # print(i)\n",
    "        s+=i           #더해준다음\n",
    "print(s)               #출력하라.\n",
    "    "
   ]
  },
  {
   "cell_type": "code",
   "execution_count": 3,
   "id": "290aa003-5312-4086-a730-ceed4f3fca1a",
   "metadata": {},
   "outputs": [
    {
     "name": "stdin",
     "output_type": "stream",
     "text": [
      " s\n"
     ]
    },
    {
     "name": "stdout",
     "output_type": "stream",
     "text": [
      "s\n"
     ]
    },
    {
     "name": "stdin",
     "output_type": "stream",
     "text": [
      " sd\n"
     ]
    },
    {
     "name": "stdout",
     "output_type": "stream",
     "text": [
      "sd\n"
     ]
    },
    {
     "name": "stdin",
     "output_type": "stream",
     "text": [
      " f\n"
     ]
    },
    {
     "name": "stdout",
     "output_type": "stream",
     "text": [
      "f\n"
     ]
    },
    {
     "name": "stdin",
     "output_type": "stream",
     "text": [
      " d\n"
     ]
    },
    {
     "name": "stdout",
     "output_type": "stream",
     "text": [
      "d\n"
     ]
    },
    {
     "name": "stdin",
     "output_type": "stream",
     "text": [
      " s\n"
     ]
    },
    {
     "name": "stdout",
     "output_type": "stream",
     "text": [
      "s\n"
     ]
    },
    {
     "name": "stdin",
     "output_type": "stream",
     "text": [
      " q\n"
     ]
    },
    {
     "name": "stdout",
     "output_type": "stream",
     "text": [
      "q\n"
     ]
    }
   ],
   "source": [
    "#No.78\n",
    "a=input()\n",
    "\n",
    "while a!='q':\n",
    "    print(a)\n",
    "    a=input()\n",
    "else:\n",
    "    print('q')\n",
    "    \n",
    "\n",
    "    \n"
   ]
  },
  {
   "cell_type": "code",
   "execution_count": 17,
   "id": "776f3e0b-68cd-42a8-b308-1c64ae91c275",
   "metadata": {},
   "outputs": [
    {
     "name": "stdout",
     "output_type": "stream",
     "text": [
      "이름: 성철, 나이: 30\n",
      "저의 이름은 Daeho이고, 나이는 34살이며, 성별은 Male입니다.\n",
      "제 급여는 300000원. 제 입사일은 비밀입니다.\n"
     ]
    }
   ],
   "source": [
    "# 상속 inheritance\n",
    "class Person1:  # 클래스 이름 변경\n",
    "    def __init__(self, name, age):\n",
    "        self.name = name\n",
    "        self.age = age\n",
    "    def __str__(self):\n",
    "        return f\"이름: {self.name}, 나이: {self.age}\"\n",
    "\n",
    "class Korean(Person1):  # 클래스 이름 변경에 따른 수정\n",
    "    pass\n",
    "\n",
    "first_korean = Korean(\"성철\", 30)\n",
    "print(first_korean)\n",
    "\n",
    "class Person:\n",
    "    def __init__(self, name, age, gender):\n",
    "        self.name = name  # 속성값 지정 해당 변수가 클래스의 엣트리뷰트임을 명확히 하기 위해서\n",
    "        self.age = age\n",
    "        self.gender = gender\n",
    "\n",
    "    def about_me(self):  # 새로운 메서드 추가\n",
    "        print(f\"저의 이름은 {self.name}이고, 나이는 {self.age}살이며, 성별은 {self.gender}입니다.\")\n",
    "\n",
    "class Employee(Person):  # 부모클래스의 Person으로 상속\n",
    "    def __init__(self, name, age, gender, salary, hire_date):\n",
    "        super().__init__(name, age, gender)\n",
    "        self.salary = salary\n",
    "        self.hire_date = hire_date  # 속성값추가\n",
    "\n",
    "    def do_work(self):  # 새로운 메서드 추가\n",
    "        print(\"일 열심히 함.\")\n",
    "\n",
    "    def about_me(self):  # 부모 클래스 함수 재정의\n",
    "        super().about_me()  # 부모클래스 함수 사용\n",
    "        print(f\"제 급여는 {self.salary}원. 제 입사일은 {self.hire_date}입니다.\")\n",
    "\n",
    "myPerson = Person(\"John\", 34, \"Male\")\n",
    "myEmployee = Employee(\"Daeho\", 34, \"Male\", 300000, \"비밀\")\n",
    "myEmployee.about_me()\n"
   ]
  },
  {
   "cell_type": "code",
   "execution_count": 34,
   "id": "204cddd2-8f26-4d58-828b-9c3747304920",
   "metadata": {},
   "outputs": [
    {
     "name": "stdin",
     "output_type": "stream",
     "text": [
      " 2 3\n"
     ]
    },
    {
     "name": "stdout",
     "output_type": "stream",
     "text": [
      "1 1\n",
      "1 2\n",
      "1 3\n",
      "2 1\n",
      "2 2\n",
      "2 3\n"
     ]
    }
   ],
   "source": [
    "#80\n",
    "a,b=input().split()\n",
    "a=int(a)\n",
    "b=int(b)\n",
    "\n",
    "for i in range(1, a+1):\n",
    "    for j in range(1, b+1):\n",
    "        print(i,j)"
   ]
  },
  {
   "cell_type": "code",
   "execution_count": 43,
   "id": "61bef470-2d4f-47b2-b822-a8e6b46a19ad",
   "metadata": {},
   "outputs": [
    {
     "name": "stdin",
     "output_type": "stream",
     "text": [
      " 0\n"
     ]
    },
    {
     "name": "stdout",
     "output_type": "stream",
     "text": [
      "0\n"
     ]
    }
   ],
   "source": [
    "#81\n",
    "a=1 #초기값암꺼나\n",
    "while a!=0:\n",
    "    a=int(input(),16)\n",
    "    print(a)"
   ]
  },
  {
   "cell_type": "code",
   "execution_count": 69,
   "id": "4eb73ba0-164d-4dd8-beea-bafc5abfd3ec",
   "metadata": {},
   "outputs": [
    {
     "name": "stdin",
     "output_type": "stream",
     "text": [
      " A\n"
     ]
    },
    {
     "name": "stdout",
     "output_type": "stream",
     "text": [
      "15\n",
      "A*1=A\n",
      "A*2=AA\n",
      "A*3=AAA\n",
      "A*4=AAAA\n",
      "A*5=AAAAA\n",
      "A*6=AAAAAA\n",
      "A*7=AAAAAAA\n",
      "A*8=AAAAAAAA\n",
      "A*9=AAAAAAAAA\n",
      "A*10=AAAAAAAAAA\n",
      "A*11=AAAAAAAAAAA\n",
      "A*12=AAAAAAAAAAAA\n",
      "A*13=AAAAAAAAAAAAA\n",
      "A*14=AAAAAAAAAAAAAA\n"
     ]
    }
   ],
   "source": [
    "#81\n",
    "a=int(input(),16)\n",
    "fin=int('F',16)\n",
    "print(fin)\n",
    "\n",
    "for i in range(1,int(fin)):\n",
    "    j='%X'% a*i\n",
    "    print(f\"{'%X'%a}*{i}={j}\")"
   ]
  },
  {
   "cell_type": "code",
   "execution_count": 76,
   "id": "a98c4db4-a9e4-4f3f-acd5-adeea06cfecc",
   "metadata": {},
   "outputs": [
    {
     "name": "stdin",
     "output_type": "stream",
     "text": [
      " A\n"
     ]
    },
    {
     "name": "stdout",
     "output_type": "stream",
     "text": [
      "A*1=A\n",
      "A*2=14\n",
      "A*3=1E\n",
      "A*4=28\n",
      "A*5=32\n",
      "A*6=3C\n",
      "A*7=46\n",
      "A*8=50\n",
      "A*9=5A\n",
      "A*A=64\n",
      "A*B=6E\n",
      "A*C=78\n",
      "A*D=82\n",
      "A*E=8C\n",
      "A*F=96\n"
     ]
    }
   ],
   "source": [
    "a=int(input(),16) #16진수의 입력을 받아 10진수 변환 여기서 주의할 것이.....그냥 a=int(input())해서 문자 입력하면 에러남. 문자는 바로 숫자로 바꿀 수 없으며 16진법 안 문자를 사용하고 싶으면, 꼭 16진수라는 표시를 해줘야 한다.\n",
    "fin=int('F',16)\n",
    "\n",
    "for i in range(1,fin+1):\n",
    "    mul=i*a\n",
    "    print('%X*%X=%X'%(a,i,mul)) # 고전적인건 범용성 \n",
    "    # print(f\"{a:X}*{i:X}={mul:X}\") #f-string 방식은 직관적\n"
   ]
  },
  {
   "cell_type": "code",
   "execution_count": 78,
   "id": "30a0169f-035b-449e-81a3-6d53c78e2bac",
   "metadata": {},
   "outputs": [
    {
     "name": "stdin",
     "output_type": "stream",
     "text": [
      " A\n"
     ]
    },
    {
     "name": "stdout",
     "output_type": "stream",
     "text": [
      "A *1 =A\n",
      "A *2 =14\n",
      "A *3 =1E\n",
      "A *4 =28\n",
      "A *5 =32\n",
      "A *6 =3C\n",
      "A *7 =46\n",
      "A *8 =50\n",
      "A *9 =5A\n",
      "A *A =64\n",
      "A *B =6E\n",
      "A *C =78\n",
      "A *D =82\n",
      "A *E =8C\n",
      "A *F =96\n"
     ]
    }
   ],
   "source": [
    "# 81정답\n",
    "n=int(input(),16)\n",
    "\n",
    "for i in range(1,16):\n",
    "    print('%X'%n,'*%X'%i, '=%X'%(n*i))\n"
   ]
  },
  {
   "cell_type": "code",
   "execution_count": 19,
   "id": "8ef3de17-06a8-4117-92ac-9183991ffd09",
   "metadata": {},
   "outputs": [
    {
     "name": "stdin",
     "output_type": "stream",
     "text": [
      " 1 3 5\n"
     ]
    },
    {
     "name": "stdout",
     "output_type": "stream",
     "text": [
      "1458\n"
     ]
    }
   ],
   "source": [
    "# 2 6 18 54 162 486 1458\n",
    "\n",
    "a,b,n=input().split()\n",
    "a=int(a)\n",
    "b=int(b)\n",
    "n=int(n)\n",
    "\n",
    "\n",
    "if i in range(1,n):\n",
    "    i=a+(b**(n-1))\n",
    "\n",
    "print(i)\n",
    "\n",
    "\n"
   ]
  },
  {
   "cell_type": "code",
   "execution_count": 23,
   "id": "8fd85b78-97ea-44bf-996f-d12ac9410522",
   "metadata": {},
   "outputs": [
    {
     "name": "stdin",
     "output_type": "stream",
     "text": [
      " 2 3 7\n"
     ]
    },
    {
     "name": "stdout",
     "output_type": "stream",
     "text": [
      "1458\n"
     ]
    }
   ],
   "source": [
    "a,b,n=input().split()\n",
    "a=int(a)\n",
    "b=int(b)\n",
    "n=int(n)\n",
    "\n",
    "i=a*(b**(n-1))\n",
    "\n",
    "print(i)"
   ]
  },
  {
   "cell_type": "code",
   "execution_count": 28,
   "id": "e3163230-2990-4fd8-98ea-bb41ca8e6b7b",
   "metadata": {},
   "outputs": [
    {
     "name": "stdin",
     "output_type": "stream",
     "text": [
      " 2 3 7\n"
     ]
    },
    {
     "name": "stdout",
     "output_type": "stream",
     "text": [
      "1458\n"
     ]
    }
   ],
   "source": [
    "a,b,n=input().split()\n",
    "a=int(a)\n",
    "b=int(b)\n",
    "n=int(n)\n",
    "\n",
    "for i in range(1,n):\n",
    "    a=a*b\n",
    "print(a)"
   ]
  },
  {
   "cell_type": "code",
   "execution_count": 42,
   "id": "6c48fc9b-3d55-4842-a53d-7d7c1bdaf28f",
   "metadata": {},
   "outputs": [
    {
     "name": "stdin",
     "output_type": "stream",
     "text": [
      " 1 -2 1 8\n"
     ]
    },
    {
     "name": "stdout",
     "output_type": "stream",
     "text": [
      "1\n",
      "-85\n"
     ]
    }
   ],
   "source": [
    "a,m,d,n=map(int,input().split())\n",
    "\n",
    "for i in range(1,n):\n",
    "    a=(a*m)+d\n",
    "print(a)"
   ]
  },
  {
   "cell_type": "code",
   "execution_count": 13,
   "id": "a0379da3-62f9-418a-a6a1-d870d212f665",
   "metadata": {},
   "outputs": [
    {
     "name": "stdin",
     "output_type": "stream",
     "text": [
      " 3 7 9\n"
     ]
    },
    {
     "name": "stdout",
     "output_type": "stream",
     "text": [
      "63\n"
     ]
    }
   ],
   "source": [
    "a,b,c=map(int,input().split())\n",
    "d=1\n",
    "\n",
    "while d%a!=0 or d%b!=0 or d%c!=0:\n",
    "    d+=1\n",
    "print(d)\n",
    "   "
   ]
  },
  {
   "cell_type": "code",
   "execution_count": 9,
   "id": "3ea93add-3399-4195-ae4f-d0f15c886d96",
   "metadata": {},
   "outputs": [
    {
     "name": "stdin",
     "output_type": "stream",
     "text": [
      " 10\n",
      " 1 3 2 2 5 6 7 4 5 9\n"
     ]
    },
    {
     "name": "stdout",
     "output_type": "stream",
     "text": [
      "1 2 1 1 2 1 1 0 1 0 0 0 0 0 0 0 0 0 0 0 0 0 0 "
     ]
    }
   ],
   "source": [
    "n=int(input())      #개수를 입력받아 n에 정수로 저장  \n",
    "a=input().split()  #int의 입력수 - 수대로 띄어라\n",
    "\n",
    "for i in range(n): #0부터까지 반복 \n",
    "    a[i]=int(a[i])    #n의 각 값들을 정수로 저장\n",
    "\n",
    "d=[] #리스트 생성\n",
    "for i in range(24): #0으로 둘러싼 24개의 리스트\n",
    "    d.append(0) \n",
    "\n",
    "for i in range(n):\n",
    "    d[a[i]]+=1     #n호출시 카운트 증가\n",
    "\n",
    "for i in range(1,24):\n",
    "    print(d[i],end=' ') #1번부터 번호가 불린 횟수를 순서대로 공백으로 구분하여 한 줄로 출력한다.\n",
    "\n",
    "\n",
    "    \n"
   ]
  },
  {
   "cell_type": "code",
   "execution_count": 15,
   "id": "4c899edc-2f16-460d-947e-63da6a7cc945",
   "metadata": {},
   "outputs": [
    {
     "name": "stdin",
     "output_type": "stream",
     "text": [
      " 5\n",
      " 1 2 3 4 5\n"
     ]
    },
    {
     "name": "stdout",
     "output_type": "stream",
     "text": [
      "5 4 3 2 1 "
     ]
    }
   ],
   "source": [
    "#93\n",
    "n=int(input())     #그저 갯수일 뿐 \n",
    "a=input().split()  #하나의 문자를 입력해도 split으로 찢으면 List형.\n",
    "\n",
    "for i in range(-1,-n-1,-1): #stepNote:거꾸로세기 스탭인 -1 안적어줌\n",
    "    print(a[i],end=' ')     #stepNote2:end= 안적음."
   ]
  },
  {
   "cell_type": "code",
   "execution_count": 51,
   "id": "7a9d340f-d9dd-48ad-afb0-f5b3c3866c33",
   "metadata": {},
   "outputs": [
    {
     "name": "stdin",
     "output_type": "stream",
     "text": [
      " 10 5 2 1\n"
     ]
    },
    {
     "name": "stdout",
     "output_type": "stream",
     "text": [
      "1\n"
     ]
    }
   ],
   "source": [
    "#아, 내가 잘못쓴 요인 : 그냥 입력하면 인풋값이 'str'이다.\n",
    "#int 값으로 바꿔줘야 크기별 정렬은 컴터가 알아들을 수 있다. \n",
    "#컴터는 잘못없다  미안 내 컴터야\n",
    "a=map(int, input().split())\n",
    "# print(a) #출력값: <map object at 0x000001A2F6217F40> \n",
    "a=list(a)\n",
    "# print(a) #출력값: [5, 1, 3, 5, 6]\n",
    "a.sort()\n",
    "# print(a) #출력값: [1, 3, 5, 5, 6]\n",
    "print(a[0])"
   ]
  },
  {
   "cell_type": "code",
   "execution_count": 1,
   "id": "d165c90c-adc2-400c-929c-ea3acdcddda4",
   "metadata": {},
   "outputs": [
    {
     "name": "stdout",
     "output_type": "stream",
     "text": [
      "Package                           Version\n",
      "--------------------------------- --------------\n",
      "anaconda-anon-usage               0.4.4\n",
      "anyio                             4.2.0\n",
      "archspec                          0.2.3\n",
      "argon2-cffi                       21.3.0\n",
      "argon2-cffi-bindings              21.2.0\n",
      "arrow                             1.3.0\n",
      "asttokens                         2.4.1\n",
      "async-lru                         2.0.4\n",
      "attrs                             23.1.0\n",
      "Babel                             2.11.0\n",
      "beautifulsoup4                    4.12.2\n",
      "bleach                            4.1.0\n",
      "boltons                           23.0.0\n",
      "Brotli                            1.0.9\n",
      "certifi                           2024.2.2\n",
      "cffi                              1.16.0\n",
      "charset-normalizer                2.0.4\n",
      "colorama                          0.4.6\n",
      "comm                              0.2.2\n",
      "conda                             24.5.0\n",
      "conda-content-trust               0.2.0\n",
      "conda-libmamba-solver             24.1.0\n",
      "conda-package-handling            2.2.0\n",
      "conda_package_streaming           0.9.0\n",
      "cryptography                      42.0.5\n",
      "debugpy                           1.8.1\n",
      "decorator                         5.1.1\n",
      "defusedxml                        0.7.1\n",
      "distro                            1.8.0\n",
      "executing                         2.0.1\n",
      "fastjsonschema                    2.16.2\n",
      "fqdn                              1.5.1\n",
      "frozendict                        2.4.2\n",
      "h11                               0.14.0\n",
      "httpcore                          1.0.5\n",
      "httpx                             0.27.0\n",
      "idna                              3.4\n",
      "ipykernel                         6.29.4\n",
      "ipython                           8.24.0\n",
      "ipython-genutils                  0.2.0\n",
      "ipywidgets                        8.1.2\n",
      "isoduration                       20.11.0\n",
      "jedi                              0.19.1\n",
      "Jinja2                            3.1.3\n",
      "json5                             0.9.6\n",
      "jsonpatch                         1.33\n",
      "jsonpointer                       2.1\n",
      "jsonschema                        4.19.2\n",
      "jsonschema-specifications         2023.7.1\n",
      "jupyter                           1.0.0\n",
      "jupyter_client                    8.6.2\n",
      "jupyter-console                   6.6.3\n",
      "jupyter-contrib-core              0.4.2\n",
      "jupyter_core                      5.7.2\n",
      "jupyter-events                    0.8.0\n",
      "jupyter-highlight-selected-word   0.2.0\n",
      "jupyter-lsp                       2.2.0\n",
      "jupyter-nbextensions-configurator 0.6.3\n",
      "jupyter_server                    2.10.0\n",
      "jupyter_server_terminals          0.4.4\n",
      "jupyterlab                        4.2.1\n",
      "jupyterlab-pygments               0.1.2\n",
      "jupyterlab_server                 2.27.2\n",
      "jupyterlab-widgets                3.0.10\n",
      "libmambapy                        1.5.8\n",
      "lxml                              5.2.2\n",
      "MarkupSafe                        2.1.3\n",
      "matplotlib-inline                 0.1.7\n",
      "menuinst                          2.0.2\n",
      "mistune                           2.0.4\n",
      "mpmath                            1.3.0\n",
      "nbclient                          0.8.0\n",
      "nbconvert                         7.10.0\n",
      "nbformat                          5.9.2\n",
      "nest-asyncio                      1.6.0\n",
      "notebook                          7.2.0\n",
      "notebook_shim                     0.2.3\n",
      "numpy                             1.26.4\n",
      "overrides                         7.4.0\n",
      "packaging                         24.0\n",
      "pandocfilters                     1.5.0\n",
      "parso                             0.8.4\n",
      "pip                               23.3.1\n",
      "platformdirs                      4.2.2\n",
      "pluggy                            1.0.0\n",
      "ply                               3.11\n",
      "prometheus-client                 0.14.1\n",
      "prompt-toolkit                    3.0.43\n",
      "psutil                            5.9.8\n",
      "pure-eval                         0.2.2\n",
      "pycosat                           0.6.6\n",
      "pycparser                         2.21\n",
      "Pygments                          2.18.0\n",
      "PyQt5                             5.15.10\n",
      "PyQt5-sip                         12.13.0\n",
      "PySocks                           1.7.1\n",
      "python-dateutil                   2.8.2\n",
      "python-json-logger                2.0.7\n",
      "pytz                              2024.1\n",
      "pywin32                           306\n",
      "pywinpty                          2.0.10\n",
      "PyYAML                            6.0.1\n",
      "pyzmq                             26.0.3\n",
      "qtconsole                         5.5.1\n",
      "QtPy                              2.4.1\n",
      "referencing                       0.30.2\n",
      "requests                          2.31.0\n",
      "rfc3339-validator                 0.1.4\n",
      "rfc3986-validator                 0.1.1\n",
      "rpds-py                           0.10.6\n",
      "ruamel.yaml                       0.17.21\n",
      "Send2Trash                        1.8.2\n",
      "setuptools                        68.2.2\n",
      "sip                               6.7.12\n",
      "six                               1.16.0\n",
      "sniffio                           1.3.0\n",
      "soupsieve                         2.5\n",
      "stack-data                        0.6.3\n",
      "sympy                             1.12.1\n",
      "terminado                         0.17.1\n",
      "tinycss2                          1.2.1\n",
      "tornado                           6.4\n",
      "tqdm                              4.65.0\n",
      "traitlets                         5.14.3\n",
      "truststore                        0.8.0\n",
      "types-python-dateutil             2.9.0.20240316\n",
      "typing_extensions                 4.11.0\n",
      "uri-template                      1.3.0\n",
      "urllib3                           2.1.0\n",
      "wcwidth                           0.2.13\n",
      "webcolors                         1.13\n",
      "webencodings                      0.5.1\n",
      "websocket-client                  1.8.0\n",
      "wheel                             0.41.2\n",
      "widgetsnbextension                4.0.10\n",
      "win-inet-pton                     1.1.0\n",
      "zstandard                         0.19.0\n",
      "Note: you may need to restart the kernel to use updated packages.\n"
     ]
    }
   ],
   "source": [
    "pip list"
   ]
  },
  {
   "cell_type": "code",
   "execution_count": null,
   "id": "db18caf4-ad61-4ffc-89fa-42e507fc4883",
   "metadata": {},
   "outputs": [],
   "source": []
  },
  {
   "cell_type": "code",
   "execution_count": null,
   "id": "87326505-cbda-49a1-a8e2-29e058e78572",
   "metadata": {},
   "outputs": [],
   "source": []
  },
  {
   "cell_type": "code",
   "execution_count": null,
   "id": "15cdedab-9ac3-4b15-a553-b2ebd247ee5c",
   "metadata": {},
   "outputs": [],
   "source": []
  },
  {
   "cell_type": "code",
   "execution_count": 7,
   "id": "166c8a59-e9a7-4a5f-a48f-d5ae4c3127be",
   "metadata": {},
   "outputs": [
    {
     "name": "stdout",
     "output_type": "stream",
     "text": [
      "[0, 0, 0, 0, 0, 1, 1, 0, 1, 1, 0, 0, 0, 1, 0, 0, 1, 0, 0, 1, 0, 0, 0, 1, 0, 0, 0, 0, 0, 1, 0, 0, 0, 1, 0, 0, 0, 0, 0, 0, 0, 0, 0, 0, 1, 1, 0, 1, 1, 0, 0, 0, 0, 0, 1, 0, 1, 0, 0, 1, 0, 1, 0, 0, 1, 0, 0, 0, 0, 0, 1, 0, 1, 0, 1, 1, 0, 0, 0, 1, 0, 0, 0, 1, 0, 0, 1, 0, 0, 1, 0, 1, 0, 0, 1, 0, 0, 0, 0, 0]\n",
      "<class 'list'>\n",
      "[0 0 0 0 0 1 1 0 1 1 0 0 0 1 0 0 1 0 0 1 0 0 0 1 0 0 0 0 0 1 0 0 0 1 0 0 0\n",
      " 0 0 0 0 0 0 0 1 1 0 1 1 0 0 0 0 0 1 0 1 0 0 1 0 1 0 0 1 0 0 0 0 0 1 0 1 0\n",
      " 1 1 0 0 0 1 0 0 0 1 0 0 1 0 0 1 0 1 0 0 1 0 0 0 0 0]\n",
      "<class 'numpy.ndarray'>\n",
      "[0 0 0 0 0 0 0 0 0 0 0 0 0 0 0 0 0 0 0 0 0 0 0 0 0 0 0 0 0 0 0 0 0 0 0 0 0\n",
      " 0 0 0 0 0 0 0 0 0 0 0 0 0 0 0 0 0 0 0 0 0 0 0 0 0 0 0 0 0 0 0 0 0 0]\n",
      "71\n"
     ]
    }
   ],
   "source": [
    "import numpy as np\n",
    "liar_data= [0, 0, 0, 0, 0, 1, 1, 0, 1, 1, 0, 0, 0, 1, 0, 0, 1, 0, 0, 1, 0, 0, 0, 1, 0, 0, 0, 0, 0, 1, 0, 0, 0, 1, 0, 0, 0, 0, 0, 0, 0, 0, 0, 0, 1, 1, 0, 1, 1, 0, 0, 0, 0, 0, 1, 0, 1, 0, 0, 1, 0, 1, 0, 0, 1, 0, 0, 0, 0, 0, 1, 0, 1, 0, 1, 1, 0, 0, 0, 1, 0, 0, 0, 1, 0, 0, 1, 0, 0, 1, 0, 1, 0, 0, 1, 0, 0, 0, 0, 0]\n",
    "print(liar_data)\n",
    "print(type(liar_data))\n",
    "# ---------------------------어레이로 전환\n",
    "liar_array=np.array(liar_data)\n",
    "print(liar_array)\n",
    "print(type(liar_array))\n",
    "#------------------------0인얘들만 모라라\n",
    "liar_num=liar_array[liar_array==0]\n",
    "print(liar_num)\n",
    "#--------------------size = 갯수\n",
    "print(liar_num.size)\n"
   ]
  }
 ],
 "metadata": {
  "kernelspec": {
   "display_name": "Python 3 (ipykernel)",
   "language": "python",
   "name": "python3"
  },
  "language_info": {
   "codemirror_mode": {
    "name": "ipython",
    "version": 3
   },
   "file_extension": ".py",
   "mimetype": "text/x-python",
   "name": "python",
   "nbconvert_exporter": "python",
   "pygments_lexer": "ipython3",
   "version": "3.12.2"
  }
 },
 "nbformat": 4,
 "nbformat_minor": 5
}
