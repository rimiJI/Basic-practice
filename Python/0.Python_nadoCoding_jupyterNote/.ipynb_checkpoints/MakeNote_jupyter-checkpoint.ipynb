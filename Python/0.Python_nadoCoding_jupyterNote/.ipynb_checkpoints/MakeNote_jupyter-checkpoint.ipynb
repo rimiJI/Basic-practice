{
 "cells": [
  {
   "cell_type": "code",
   "execution_count": 9,
   "id": "485574fd-58a7-4f58-bc7f-507c24a09f76",
   "metadata": {},
   "outputs": [
    {
     "data": {
      "text/plain": [
       "False"
      ]
     },
     "execution_count": 9,
     "metadata": {},
     "output_type": "execute_result"
    }
   ],
   "source": [
    "os.path.exists(\"TestLog\")"
   ]
  },
  {
   "cell_type": "code",
   "execution_count": 3,
   "id": "b7933428-b7e7-4dd9-b77b-83dd7f7d299b",
   "metadata": {},
   "outputs": [],
   "source": [
    "import pathlib"
   ]
  },
  {
   "cell_type": "code",
   "execution_count": 5,
   "id": "a853780b-1730-4808-981a-9568d999e53e",
   "metadata": {},
   "outputs": [
    {
     "data": {
      "text/plain": [
       "WindowsPath('D:/Me/PythonWorkspace')"
      ]
     },
     "execution_count": 5,
     "metadata": {},
     "output_type": "execute_result"
    }
   ],
   "source": [
    "pathlib.Path.cwd() #cwd= current working directory"
   ]
  },
  {
   "cell_type": "code",
   "execution_count": 7,
   "id": "4236245a-f2b5-4323-9066-c1a698d92bde",
   "metadata": {},
   "outputs": [
    {
     "data": {
      "text/plain": [
       "WindowsPath('D:/Me/PythonWorkspace')"
      ]
     },
     "execution_count": 7,
     "metadata": {},
     "output_type": "execute_result"
    }
   ],
   "source": [
    "cwd = pathlib.Path.cwd()\n",
    "cwd"
   ]
  },
  {
   "cell_type": "code",
   "execution_count": 10,
   "id": "9deeeeb0-d710-439e-aad9-0dbad8b1f7c8",
   "metadata": {},
   "outputs": [
    {
     "data": {
      "text/plain": [
       "WindowsPath('D:/Me')"
      ]
     },
     "execution_count": 10,
     "metadata": {},
     "output_type": "execute_result"
    }
   ],
   "source": [
    "cwd\n",
    "cwd.parent"
   ]
  },
  {
   "cell_type": "code",
   "execution_count": 11,
   "id": "d87c031c-6a87-4932-9d8a-818715083146",
   "metadata": {},
   "outputs": [
    {
     "data": {
      "text/plain": [
       "WindowsPath('D:/')"
      ]
     },
     "execution_count": 11,
     "metadata": {},
     "output_type": "execute_result"
    }
   ],
   "source": [
    "cwd.parent.parent"
   ]
  },
  {
   "cell_type": "code",
   "execution_count": null,
   "id": "ccf3135d-2f03-493c-a029-33e2d659a2bd",
   "metadata": {},
   "outputs": [],
   "source": []
  },
  {
   "cell_type": "code",
   "execution_count": null,
   "id": "6f5f0c82-6a93-4e49-b6dd-87c43039039b",
   "metadata": {},
   "outputs": [],
   "source": []
  },
  {
   "cell_type": "code",
   "execution_count": null,
   "id": "7ad4f667-7eef-44da-91c0-83378080f16f",
   "metadata": {},
   "outputs": [],
   "source": []
  }
 ],
 "metadata": {
  "kernelspec": {
   "display_name": "Python 3 (ipykernel)",
   "language": "python",
   "name": "python3"
  },
  "language_info": {
   "codemirror_mode": {
    "name": "ipython",
    "version": 3
   },
   "file_extension": ".py",
   "mimetype": "text/x-python",
   "name": "python",
   "nbconvert_exporter": "python",
   "pygments_lexer": "ipython3",
   "version": "3.12.2"
  }
 },
 "nbformat": 4,
 "nbformat_minor": 5
}
