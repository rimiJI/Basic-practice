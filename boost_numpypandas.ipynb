{
 "cells": [
  {
   "cell_type": "markdown",
   "id": "f3916db4-faf4-4e8b-9d37-2bd193718e3b",
   "metadata": {},
   "source": [
    "## Numpy"
   ]
  },
  {
   "cell_type": "code",
   "execution_count": 14,
   "id": "524391a4-76e5-4f70-aeab-7f57d91bf944",
   "metadata": {},
   "outputs": [
    {
     "name": "stdout",
     "output_type": "stream",
     "text": [
      "[1. 3. 4. 1.]\n",
      "<class 'numpy.ndarray'>\n",
      "<class 'numpy.float64'>\n",
      "[1, 3, 4, '헛']\n",
      "<class 'list'>\n",
      "<class 'str'>\n"
     ]
    }
   ],
   "source": [
    "import numpy as np\n",
    "\n",
    "testarr=np.array([1,3,4,1],float) #only one data type\n",
    "print(testarr)\n",
    "print(type(testarr))\n",
    "print(type(testarr[3]))\n",
    "\n",
    "testlist=[1,3,4,'헛']\n",
    "print(testlist)\n",
    "print(type(testlist))\n",
    "print(type(testlist[3]))\n"
   ]
  },
  {
   "cell_type": "code",
   "execution_count": 17,
   "id": "c2e9a8a2-607c-41e4-b6f3-8df8b796d1f1",
   "metadata": {},
   "outputs": [
    {
     "data": {
      "text/plain": [
       "array([1, 2, 3, 6])"
      ]
     },
     "execution_count": 17,
     "metadata": {},
     "output_type": "execute_result"
    }
   ],
   "source": [
    "#ndarray에서 실수로 다른 data type 입력해도 -> 지정 type으로 자동 형변환\n",
    "testarr=np.array([1,2,3,'6'],int)\n",
    "testarr"
   ]
  },
  {
   "cell_type": "markdown",
   "id": "930ffccb-1bc7-43bc-8f0e-fae01142703b",
   "metadata": {},
   "source": [
    "### array Rank Name\n",
    "```\n",
    "scalar  7\n",
    "vector  [7,7]\n",
    "matrix  [[7,7],[8,8]]\n",
    "3-tensor[[1,1,1],[2,1,2],[7,7,7],[2,2,2]]\n",
    "```\n"
   ]
  },
  {
   "cell_type": "code",
   "execution_count": 20,
   "id": "e645a6c8-dcca-40b1-b015-7e2ab87b9750",
   "metadata": {},
   "outputs": [
    {
     "data": {
      "text/plain": [
       "(4,)"
      ]
     },
     "execution_count": 20,
     "metadata": {},
     "output_type": "execute_result"
    }
   ],
   "source": [
    "vector=[1,2,3,4]\n",
    "np.array(vector,int).shape"
   ]
  },
  {
   "cell_type": "code",
   "execution_count": 21,
   "id": "0e7d353b-5ad3-4730-ac38-6721517d7fdf",
   "metadata": {},
   "outputs": [
    {
     "data": {
      "text/plain": [
       "(3, 4)"
      ]
     },
     "execution_count": 21,
     "metadata": {},
     "output_type": "execute_result"
    }
   ],
   "source": [
    "matricx=[[1,2,3,4],[1,2,3,4],[1,2,3,4]]\n",
    "np.array(matricx,int).shape"
   ]
  },
  {
   "cell_type": "code",
   "execution_count": 27,
   "id": "d3a56872-f67b-4214-bfd7-dbfe0e0464fe",
   "metadata": {},
   "outputs": [
    {
     "data": {
      "text/plain": [
       "(2, 3, 4)"
      ]
     },
     "execution_count": 27,
     "metadata": {},
     "output_type": "execute_result"
    }
   ],
   "source": [
    "tensor=[[[1,2,3,4],[1,2,3,4],[1,2,3,4]],\n",
    "        [[1,2,3,4],[1,2,3,4],[1,2,3,4]]]\n",
    "np.array(tensor,int).shape"
   ]
  },
  {
   "cell_type": "markdown",
   "id": "6391a2bb-860f-46d2-8b9b-66ca55edb228",
   "metadata": {},
   "source": [
    "```\n",
    "ndarray, matrix, tensor를 코드에 적힌 그대로 직관적인 게 아닌\n",
    "나름의 해석이 필요한 것\n",
    "```"
   ]
  },
  {
   "cell_type": "code",
   "execution_count": 29,
   "id": "a9a79f4a-d159-4aa8-a427-9c9cc7fa8095",
   "metadata": {},
   "outputs": [
    {
     "data": {
      "text/plain": [
       "array([[1, 2, 3, 6],\n",
       "       [2, 3, 4, 7]])"
      ]
     },
     "execution_count": 29,
     "metadata": {},
     "output_type": "execute_result"
    }
   ],
   "source": [
    "testarr=np.array([[1,2,3,'6'],[2,3,4,'7']],int)\n",
    "testarr"
   ]
  },
  {
   "cell_type": "markdown",
   "id": "6d827821-040e-4d32-b7d0-e175e16d17f3",
   "metadata": {},
   "source": [
    "### nbytes : ndarray 메모리 크기"
   ]
  },
  {
   "cell_type": "code",
   "execution_count": 37,
   "id": "2a8e6859-8925-4390-8936-b6df3b8213c2",
   "metadata": {},
   "outputs": [
    {
     "name": "stdout",
     "output_type": "stream",
     "text": [
      "[[1.  2.  3. ]\n",
      " [4.5 5.  6. ]]\n"
     ]
    }
   ],
   "source": [
    "test=np.array([[1,2,3],[4.5,'5','6']],float)\n",
    "print(test)"
   ]
  },
  {
   "cell_type": "code",
   "execution_count": 39,
   "id": "15d59ece-b878-4f76-b5ed-bb0c44b3ec84",
   "metadata": {},
   "outputs": [
    {
     "name": "stdout",
     "output_type": "stream",
     "text": [
      "48\n"
     ]
    }
   ],
   "source": [
    "test_b=np.array([[1,2,3],[4.5,'5','6']],float).nbytes\n",
    "print(test_b)"
   ]
  },
  {
   "cell_type": "code",
   "execution_count": 41,
   "id": "024e9c47-6aae-4e78-8b03-73c9a42d396f",
   "metadata": {},
   "outputs": [
    {
     "name": "stdout",
     "output_type": "stream",
     "text": [
      "48\n"
     ]
    }
   ],
   "source": [
    "print(np.array([[1,2,3],[4.5,'5','6']],float).nbytes)"
   ]
  },
  {
   "cell_type": "code",
   "execution_count": 44,
   "id": "5cb72f54-9237-48d5-b5d4-b737ce80bf55",
   "metadata": {},
   "outputs": [
    {
     "name": "stdout",
     "output_type": "stream",
     "text": [
      "24\n"
     ]
    }
   ],
   "source": [
    "print(np.array([[1,2,3],[4.5,'5','6']],dtype=np.float32).nbytes)"
   ]
  },
  {
   "cell_type": "code",
   "execution_count": 45,
   "id": "06d003de-e12c-4c03-bf8f-8e16605c88ee",
   "metadata": {},
   "outputs": [
    {
     "name": "stdout",
     "output_type": "stream",
     "text": [
      "48\n"
     ]
    }
   ],
   "source": [
    "print(np.array([[1,2,3],[4.5,'5','6']],dtype=np.float64).nbytes)"
   ]
  },
  {
   "cell_type": "code",
   "execution_count": 47,
   "id": "8f91643f-f004-4619-b5e6-eb0f023811b6",
   "metadata": {},
   "outputs": [
    {
     "name": "stdout",
     "output_type": "stream",
     "text": [
      "6\n"
     ]
    }
   ],
   "source": [
    "print(np.array([[1,2,3],[4.5,'5','6']],dtype=np.int8).nbytes)"
   ]
  },
  {
   "cell_type": "code",
   "execution_count": 48,
   "id": "bb054dba-4ed7-4cef-9ff8-88d6f45f37be",
   "metadata": {},
   "outputs": [
    {
     "ename": "AttributeError",
     "evalue": "module 'numpy' has no attribute 'string'",
     "output_type": "error",
     "traceback": [
      "\u001b[1;31m---------------------------------------------------------------------------\u001b[0m",
      "\u001b[1;31mAttributeError\u001b[0m                            Traceback (most recent call last)",
      "Cell \u001b[1;32mIn[48], line 1\u001b[0m\n\u001b[1;32m----> 1\u001b[0m \u001b[38;5;28mprint\u001b[39m(np\u001b[38;5;241m.\u001b[39marray([[\u001b[38;5;241m1\u001b[39m,\u001b[38;5;241m2\u001b[39m,\u001b[38;5;241m3\u001b[39m],[\u001b[38;5;241m4.5\u001b[39m,\u001b[38;5;124m'\u001b[39m\u001b[38;5;124m5\u001b[39m\u001b[38;5;124m'\u001b[39m,\u001b[38;5;124m'\u001b[39m\u001b[38;5;124m6\u001b[39m\u001b[38;5;124m'\u001b[39m]],dtype\u001b[38;5;241m=\u001b[39m\u001b[43mnp\u001b[49m\u001b[38;5;241;43m.\u001b[39;49m\u001b[43mstring\u001b[49m)\u001b[38;5;241m.\u001b[39mnbytes)\n",
      "File \u001b[1;32m~\\miniconda3\\Lib\\site-packages\\numpy\\__init__.py:347\u001b[0m, in \u001b[0;36m__getattr__\u001b[1;34m(attr)\u001b[0m\n\u001b[0;32m    344\u001b[0m     \u001b[38;5;124m\"\u001b[39m\u001b[38;5;124mRemoved in NumPy 1.25.0\u001b[39m\u001b[38;5;124m\"\u001b[39m\n\u001b[0;32m    345\u001b[0m     \u001b[38;5;28;01mraise\u001b[39;00m \u001b[38;5;167;01mRuntimeError\u001b[39;00m(\u001b[38;5;124m\"\u001b[39m\u001b[38;5;124mTester was removed in NumPy 1.25.\u001b[39m\u001b[38;5;124m\"\u001b[39m)\n\u001b[1;32m--> 347\u001b[0m \u001b[38;5;28;01mraise\u001b[39;00m \u001b[38;5;167;01mAttributeError\u001b[39;00m(\u001b[38;5;124m\"\u001b[39m\u001b[38;5;124mmodule \u001b[39m\u001b[38;5;132;01m{!r}\u001b[39;00m\u001b[38;5;124m has no attribute \u001b[39m\u001b[38;5;124m\"\u001b[39m\n\u001b[0;32m    348\u001b[0m                      \u001b[38;5;124m\"\u001b[39m\u001b[38;5;132;01m{!r}\u001b[39;00m\u001b[38;5;124m\"\u001b[39m\u001b[38;5;241m.\u001b[39mformat(\u001b[38;5;18m__name__\u001b[39m, attr))\n",
      "\u001b[1;31mAttributeError\u001b[0m: module 'numpy' has no attribute 'string'"
     ]
    }
   ],
   "source": [
    "print(np.array([[1,2,3],[4.5,'5','6']],dtype=np.string).nbytes) #숫자만가능 "
   ]
  },
  {
   "cell_type": "code",
   "execution_count": 49,
   "id": "eb750a4e-a8ae-49a0-a981-72603e848a73",
   "metadata": {},
   "outputs": [
    {
     "name": "stdout",
     "output_type": "stream",
     "text": [
      "12\n"
     ]
    }
   ],
   "source": [
    "print(np.array([[1,2,3],[4.5,'5','6']],dtype=np.int16).nbytes)"
   ]
  },
  {
   "cell_type": "code",
   "execution_count": null,
   "id": "60d5f563-85a6-436d-8eaa-435e522bbfc3",
   "metadata": {},
   "outputs": [],
   "source": []
  },
  {
   "cell_type": "markdown",
   "id": "dda6f3d9-ebb8-4e8e-9db4-56987ed60032",
   "metadata": {},
   "source": [
    "### reshape\n",
    "\n",
    "```\n",
    "array의 shape 변경\n",
    "```"
   ]
  },
  {
   "cell_type": "code",
   "execution_count": 51,
   "id": "9e0e16ab-49cf-4806-8000-19f69467f3f5",
   "metadata": {},
   "outputs": [
    {
     "name": "stdout",
     "output_type": "stream",
     "text": [
      "<class 'list'>\n"
     ]
    }
   ],
   "source": [
    "test=[[1,2,3,4],[1,2,3,4]]\n",
    "print(type(test))"
   ]
  },
  {
   "cell_type": "code",
   "execution_count": 55,
   "id": "30de2299-50ed-460d-a1ca-1377318ff1d8",
   "metadata": {},
   "outputs": [
    {
     "name": "stdout",
     "output_type": "stream",
     "text": [
      "<class 'numpy.ndarray'>\n"
     ]
    },
    {
     "data": {
      "text/plain": [
       "(2, 4)"
      ]
     },
     "execution_count": 55,
     "metadata": {},
     "output_type": "execute_result"
    }
   ],
   "source": [
    "test=np.array(test)\n",
    "print(type(test))\n",
    "test.shape"
   ]
  },
  {
   "cell_type": "code",
   "execution_count": 56,
   "id": "c62f6881-2806-496a-8a5c-e8cc94700d6c",
   "metadata": {},
   "outputs": [
    {
     "data": {
      "text/plain": [
       "array([1, 2, 3, 4, 1, 2, 3, 4])"
      ]
     },
     "execution_count": 56,
     "metadata": {},
     "output_type": "execute_result"
    }
   ],
   "source": [
    "test.reshape(8,)"
   ]
  },
  {
   "cell_type": "code",
   "execution_count": 57,
   "id": "016b17eb-7579-4bc8-910a-f176e128bd75",
   "metadata": {},
   "outputs": [
    {
     "data": {
      "text/plain": [
       "(8,)"
      ]
     },
     "execution_count": 57,
     "metadata": {},
     "output_type": "execute_result"
    }
   ],
   "source": [
    "test.reshape(8,).shape"
   ]
  },
  {
   "cell_type": "code",
   "execution_count": 58,
   "id": "77ef0ca5-2795-46e7-a2db-04700cb61dc5",
   "metadata": {},
   "outputs": [
    {
     "data": {
      "text/plain": [
       "array([1, 2, 3, 4, 1, 2, 3, 4])"
      ]
     },
     "execution_count": 58,
     "metadata": {},
     "output_type": "execute_result"
    }
   ],
   "source": [
    "test=[[1,2,3,4],[1,2,3,4]]\n",
    "np.array(test).reshape(8,)"
   ]
  },
  {
   "cell_type": "markdown",
   "id": "38986fad-35eb-4112-9d52-19e48ea068bf",
   "metadata": {},
   "source": [
    "### flatten\n",
    "```\n",
    "다차원 array를 1차원으로\n",
    "```"
   ]
  },
  {
   "cell_type": "code",
   "execution_count": 60,
   "id": "2beadea6-f9ce-4011-b4cd-b3f3e40e57a2",
   "metadata": {},
   "outputs": [
    {
     "data": {
      "text/plain": [
       "array([1, 2, 3, 4, 1, 2, 3, 4])"
      ]
     },
     "execution_count": 60,
     "metadata": {},
     "output_type": "execute_result"
    }
   ],
   "source": [
    "test=[[1,2,3,4],[1,2,3,4]]\n",
    "test=np.array(test)\n",
    "test.flatten()"
   ]
  },
  {
   "cell_type": "code",
   "execution_count": 63,
   "id": "dc54ca91-954f-4db8-9c65-bd13678d1878",
   "metadata": {},
   "outputs": [
    {
     "data": {
      "text/plain": [
       "array([1, 2, 3, 4, 1, 2, 3, 4])"
      ]
     },
     "execution_count": 63,
     "metadata": {},
     "output_type": "execute_result"
    }
   ],
   "source": [
    "test=[[1,2,3,4],[1,2,3,4]]\n",
    "np.array(test).flatten()"
   ]
  },
  {
   "cell_type": "markdown",
   "id": "3fbe6d27-8135-4262-82cd-4e90a78c6e77",
   "metadata": {},
   "source": [
    "### indexing for Numpy"
   ]
  },
  {
   "cell_type": "code",
   "execution_count": 75,
   "id": "84b93548-8002-4f1d-ac9d-7342c5be3e75",
   "metadata": {},
   "outputs": [
    {
     "name": "stdout",
     "output_type": "stream",
     "text": [
      "[[67  2  3  4]\n",
      " [ 1  2  3  4]]\n"
     ]
    }
   ],
   "source": [
    "test=np.array([[1,2,3,4],[1,2,3,4.5]],int)\n",
    "test[0,0]=67\n",
    "print(test)"
   ]
  },
  {
   "cell_type": "code",
   "execution_count": 76,
   "id": "e676930f-3019-426e-bfc3-4fe234a95ea1",
   "metadata": {},
   "outputs": [
    {
     "data": {
      "text/plain": [
       "67"
      ]
     },
     "execution_count": 76,
     "metadata": {},
     "output_type": "execute_result"
    }
   ],
   "source": [
    "test[0][0]"
   ]
  },
  {
   "cell_type": "code",
   "execution_count": 77,
   "id": "b10a0a48-829f-453f-bb55-65bc8c935b8c",
   "metadata": {},
   "outputs": [
    {
     "data": {
      "text/plain": [
       "67"
      ]
     },
     "execution_count": 77,
     "metadata": {},
     "output_type": "execute_result"
    }
   ],
   "source": [
    "test[0,0]"
   ]
  },
  {
   "cell_type": "markdown",
   "id": "81444e3d-bb5e-449e-bd6d-74f591f5eb66",
   "metadata": {},
   "source": [
    "### slicing for numpy array"
   ]
  },
  {
   "cell_type": "code",
   "execution_count": 78,
   "id": "84dee54d-7bd0-4246-b4e2-1f2219675e63",
   "metadata": {},
   "outputs": [
    {
     "data": {
      "text/plain": [
       "array([[1, 2, 3, 4],\n",
       "       [1, 2, 3, 4]])"
      ]
     },
     "execution_count": 78,
     "metadata": {},
     "output_type": "execute_result"
    }
   ],
   "source": [
    "a=np.array([[1,2,3,4],[1,2,3,4.5]],int)\n",
    "a"
   ]
  },
  {
   "cell_type": "code",
   "execution_count": 79,
   "id": "90b2fe3a-6636-4b36-9b5d-04238b7295fa",
   "metadata": {},
   "outputs": [
    {
     "data": {
      "text/plain": [
       "array([[3, 4],\n",
       "       [3, 4]])"
      ]
     },
     "execution_count": 79,
     "metadata": {},
     "output_type": "execute_result"
    }
   ],
   "source": [
    "a[:,2:]"
   ]
  },
  {
   "cell_type": "code",
   "execution_count": 80,
   "id": "0cb4c640-921e-4463-a6c7-fca450e9601b",
   "metadata": {},
   "outputs": [
    {
     "data": {
      "text/plain": [
       "array([[1, 2, 3, 4],\n",
       "       [1, 2, 3, 4]])"
      ]
     },
     "execution_count": 80,
     "metadata": {},
     "output_type": "execute_result"
    }
   ],
   "source": [
    "a"
   ]
  },
  {
   "cell_type": "code",
   "execution_count": 83,
   "id": "c7c86d16-4fd2-46b3-9601-05cab3128464",
   "metadata": {},
   "outputs": [
    {
     "data": {
      "text/plain": [
       "array([2, 3])"
      ]
     },
     "execution_count": 83,
     "metadata": {},
     "output_type": "execute_result"
    }
   ],
   "source": [
    "a[1,1:3]"
   ]
  },
  {
   "cell_type": "code",
   "execution_count": 95,
   "id": "981cf26d-93fe-40c8-a34d-bc116aa555a0",
   "metadata": {},
   "outputs": [
    {
     "data": {
      "text/plain": [
       "array([[1, 2, 3, 4]])"
      ]
     },
     "execution_count": 95,
     "metadata": {},
     "output_type": "execute_result"
    }
   ],
   "source": [
    "a[1:3]"
   ]
  },
  {
   "cell_type": "code",
   "execution_count": 84,
   "id": "83f9430e-57ce-4d1b-9e25-2c121d873aec",
   "metadata": {},
   "outputs": [
    {
     "data": {
      "text/plain": [
       "array([[1, 2, 3, 4],\n",
       "       [1, 2, 3, 4]])"
      ]
     },
     "execution_count": 84,
     "metadata": {},
     "output_type": "execute_result"
    }
   ],
   "source": [
    "a"
   ]
  },
  {
   "cell_type": "code",
   "execution_count": 87,
   "id": "ba12b49f-282a-48b2-8768-280002c9bf20",
   "metadata": {},
   "outputs": [
    {
     "data": {
      "text/plain": [
       "array([[1, 2, 3, 4]])"
      ]
     },
     "execution_count": 87,
     "metadata": {},
     "output_type": "execute_result"
    }
   ],
   "source": [
    "a[1:3,:]"
   ]
  },
  {
   "cell_type": "code",
   "execution_count": 97,
   "id": "9695bc12-3325-4c35-9945-78285e44d317",
   "metadata": {},
   "outputs": [
    {
     "data": {
      "text/plain": [
       "array([[1, 2, 3, 4]])"
      ]
     },
     "execution_count": 97,
     "metadata": {},
     "output_type": "execute_result"
    }
   ],
   "source": [
    "a[1:3,]"
   ]
  },
  {
   "cell_type": "markdown",
   "id": "da460419-b73a-4905-a020-b38454555d3a",
   "metadata": {},
   "source": [
    "-----------------------------------------------numpy 38,39,41,42,43,44,46,47,48,49,51,52,54,57,62,64 "
   ]
  },
  {
   "cell_type": "code",
   "execution_count": 101,
   "id": "da3ad77d-8595-42fc-9446-5f8010caee7d",
   "metadata": {},
   "outputs": [
    {
     "name": "stdout",
     "output_type": "stream",
     "text": [
      "896 ns ± 6.22 ns per loop (mean ± std. dev. of 7 runs, 1,000,000 loops each)\n"
     ]
    }
   ],
   "source": [
    "%timeit np.array([[1,2,3,4],[1,2,3,4.5]],int)"
   ]
  },
  {
   "cell_type": "code",
   "execution_count": 102,
   "id": "8b6cc7b0-2c53-4ccb-9418-d381f36cf63d",
   "metadata": {},
   "outputs": [
    {
     "name": "stdout",
     "output_type": "stream",
     "text": [
      "100 ns ± 0.906 ns per loop (mean ± std. dev. of 7 runs, 10,000,000 loops each)\n"
     ]
    }
   ],
   "source": [
    "%timeit test=[[1,2,3,4],[1,2,3,4]]"
   ]
  },
  {
   "cell_type": "markdown",
   "id": "9ee1feda-5756-4b9b-80f6-3a5033b55f68",
   "metadata": {},
   "source": [
    "#### fancy index\n",
    "79,80,82"
   ]
  },
  {
   "cell_type": "code",
   "execution_count": null,
   "id": "9479f333-510c-4aab-8888-d906f11d7c17",
   "metadata": {},
   "outputs": [],
   "source": []
  },
  {
   "cell_type": "code",
   "execution_count": null,
   "id": "9fb9779d-e654-4970-94e4-c93a6c59e2f5",
   "metadata": {},
   "outputs": [],
   "source": []
  },
  {
   "cell_type": "code",
   "execution_count": null,
   "id": "5ca17db4-3ef2-440d-9048-51ca71c39931",
   "metadata": {},
   "outputs": [],
   "source": []
  },
  {
   "cell_type": "code",
   "execution_count": null,
   "id": "57bc12bc-b7b7-427e-a820-4ea213704425",
   "metadata": {},
   "outputs": [],
   "source": []
  },
  {
   "cell_type": "code",
   "execution_count": null,
   "id": "c426ffc5-97c3-44e2-b1c1-64ea727f681f",
   "metadata": {},
   "outputs": [],
   "source": []
  },
  {
   "cell_type": "code",
   "execution_count": null,
   "id": "8c0e85a7-29e8-4c02-bbe9-72c2371bf2bd",
   "metadata": {},
   "outputs": [],
   "source": []
  }
 ],
 "metadata": {
  "kernelspec": {
   "display_name": "Python 3 (ipykernel)",
   "language": "python",
   "name": "python3"
  },
  "language_info": {
   "codemirror_mode": {
    "name": "ipython",
    "version": 3
   },
   "file_extension": ".py",
   "mimetype": "text/x-python",
   "name": "python",
   "nbconvert_exporter": "python",
   "pygments_lexer": "ipython3",
   "version": "3.12.2"
  }
 },
 "nbformat": 4,
 "nbformat_minor": 5
}
