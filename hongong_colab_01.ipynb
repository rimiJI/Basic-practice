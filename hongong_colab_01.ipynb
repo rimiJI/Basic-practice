{
  "nbformat": 4,
  "nbformat_minor": 0,
  "metadata": {
    "colab": {
      "provenance": [],
      "gpuType": "T4",
      "authorship_tag": "ABX9TyPOS+5jOHFWCcVo3hUGgZDO",
      "include_colab_link": true
    },
    "kernelspec": {
      "name": "python3",
      "display_name": "Python 3"
    },
    "language_info": {
      "name": "python"
    },
    "accelerator": "GPU"
  },
  "cells": [
    {
      "cell_type": "markdown",
      "metadata": {
        "id": "view-in-github",
        "colab_type": "text"
      },
      "source": [
        "<a href=\"https://colab.research.google.com/github/rimiJI/Basic-practice/blob/main/hongong_colab_01.ipynb\" target=\"_parent\"><img src=\"https://colab.research.google.com/assets/colab-badge.svg\" alt=\"Open In Colab\"/></a>"
      ]
    },
    {
      "cell_type": "code",
      "execution_count": 1,
      "metadata": {
        "colab": {
          "base_uri": "https://localhost:8080/"
        },
        "id": "htj_8BLti-wD",
        "outputId": "be12fce2-a5cf-4da0-e89c-52f039e310c3"
      },
      "outputs": [
        {
          "output_type": "execute_result",
          "data": {
            "text/plain": [
              "2"
            ]
          },
          "metadata": {},
          "execution_count": 1
        }
      ],
      "source": [
        "1+1"
      ]
    },
    {
      "cell_type": "code",
      "source": [
        "import sklearn"
      ],
      "metadata": {
        "id": "IrtK26vQjUd9"
      },
      "execution_count": 2,
      "outputs": []
    },
    {
      "cell_type": "code",
      "source": [
        "import tensorflow"
      ],
      "metadata": {
        "id": "CY92b6ZljnKO"
      },
      "execution_count": 4,
      "outputs": []
    },
    {
      "cell_type": "markdown",
      "source": [
        "#### 이 과정은 화면 렌더링 벡터연산을 빠르게하는 GPU사용 (not CPU)\n",
        "딥러닝도 게임과 비슷 작은 연산이 많은양을 실행해야하므로 |\n",
        "코랩에서 GPU도 무료로 사용 가능 | 사이킷런, 텐서플로같은 라이브러리도 제공"
      ],
      "metadata": {
        "id": "rBaNIGM9j991"
      }
    }
  ]
}